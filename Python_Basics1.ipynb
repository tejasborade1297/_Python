{
 "cells": [
  {
   "cell_type": "markdown",
   "id": "fce7b538-5410-432f-b461-cc9b54eff02e",
   "metadata": {},
   "source": [
    "## Python\r\n"
   ]
  },
  {
   "cell_type": "markdown",
   "id": "09d8eb87-c85b-4739-a5fc-3d7838f523ce",
   "metadata": {},
   "source": [
    "#### 1. Hello World"
   ]
  },
  {
   "cell_type": "code",
   "execution_count": 1,
   "id": "613e5104-b247-49d4-97f0-e96faec09047",
   "metadata": {},
   "outputs": [
    {
     "name": "stdout",
     "output_type": "stream",
     "text": [
      "Hello World\n"
     ]
    }
   ],
   "source": [
    "print(\"Hello World\")"
   ]
  },
  {
   "cell_type": "markdown",
   "id": "518c43bf-d208-42ea-b7b7-257500bcb9fb",
   "metadata": {},
   "source": [
    "#### 2. Data Types\n"
   ]
  },
  {
   "cell_type": "markdown",
   "id": "82246aa2-3f80-4645-aa44-7b5a83733dd9",
   "metadata": {},
   "source": [
    "##### Definition:\n",
    "##### A Data Type defines the type of value that can be stored in a variable.\n",
    "\n",
    "##### Common Python Data Types:\n",
    "\n",
    "##### Numeric: int, float\n",
    "\n",
    "##### String (str): A sequence of characters\n",
    "\n",
    "##### Boolean (bool): True or False\n",
    "\n",
    "##### None: Represents nothing / null value"
   ]
  },
  {
   "cell_type": "code",
   "execution_count": 3,
   "id": "c5848e20-12f8-4111-9d6b-81969f8cb668",
   "metadata": {},
   "outputs": [
    {
     "name": "stdout",
     "output_type": "stream",
     "text": [
      "2 -> <class 'int'>\n"
     ]
    }
   ],
   "source": [
    "a = 2\n",
    "print(a, \"->\", type(a))"
   ]
  },
  {
   "cell_type": "code",
   "execution_count": 4,
   "id": "dae090e7-0518-4405-b496-e14c8d9f0efa",
   "metadata": {},
   "outputs": [
    {
     "name": "stdout",
     "output_type": "stream",
     "text": [
      "33.5 -> <class 'float'>\n"
     ]
    }
   ],
   "source": [
    "age = 33.5\n",
    "print(age, \"->\", type(age))"
   ]
  },
  {
   "cell_type": "code",
   "execution_count": 5,
   "id": "55985112-4cc3-4eba-b1cb-293f9f84bd58",
   "metadata": {},
   "outputs": [
    {
     "name": "stdout",
     "output_type": "stream",
     "text": [
      "This is my first string -> <class 'str'>\n"
     ]
    }
   ],
   "source": [
    "first_string = 'This is my first string'\n",
    "print(first_string, \"->\", type(first_string))"
   ]
  },
  {
   "cell_type": "code",
   "execution_count": 6,
   "id": "3734ceb2-3fbb-4dc8-a1a9-f79b94d3d6fb",
   "metadata": {},
   "outputs": [
    {
     "name": "stdout",
     "output_type": "stream",
     "text": [
      "True -> <class 'bool'>\n"
     ]
    }
   ],
   "source": [
    "a = True\n",
    "print(a, \"->\", type(a))"
   ]
  },
  {
   "cell_type": "code",
   "execution_count": 7,
   "id": "86ee2219-ccd7-437c-9f1b-c2f8ed9c5fc4",
   "metadata": {},
   "outputs": [
    {
     "name": "stdout",
     "output_type": "stream",
     "text": [
      "None -> <class 'NoneType'>\n"
     ]
    }
   ],
   "source": [
    "var = None\n",
    "print(var, \"->\", type(var))"
   ]
  },
  {
   "cell_type": "markdown",
   "id": "2b59f098-8a95-400a-8753-22146baf94f8",
   "metadata": {},
   "source": [
    "#### 3. Strings"
   ]
  },
  {
   "cell_type": "code",
   "execution_count": 9,
   "id": "8e99fd99-9144-47c7-b200-6c294a98220e",
   "metadata": {},
   "outputs": [
    {
     "name": "stdout",
     "output_type": "stream",
     "text": [
      "This is my first string\n"
     ]
    }
   ],
   "source": [
    "first_string = 'This is my first string'\n",
    "print(first_string)"
   ]
  },
  {
   "cell_type": "code",
   "execution_count": 10,
   "id": "96603aa2-80fe-4617-8b1e-16735cf61eb6",
   "metadata": {},
   "outputs": [
    {
     "name": "stdout",
     "output_type": "stream",
     "text": [
      "Intellipaat's students\n"
     ]
    }
   ],
   "source": [
    "second_string = \"Intellipaat's students\"\n",
    "print(second_string)"
   ]
  },
  {
   "cell_type": "code",
   "execution_count": 11,
   "id": "3baa5d57-0a59-4703-82d3-ceaed3f176f1",
   "metadata": {},
   "outputs": [
    {
     "name": "stdout",
     "output_type": "stream",
     "text": [
      "This is a sample \n",
      "multiline string example\n"
     ]
    }
   ],
   "source": [
    "third_string = \"\"\"This is a sample \n",
    "multiline string example\"\"\"\n",
    "print(third_string)"
   ]
  },
  {
   "cell_type": "code",
   "execution_count": 12,
   "id": "459dd409-e686-4e75-b970-5bbc9d0c86bd",
   "metadata": {},
   "outputs": [
    {
     "name": "stdout",
     "output_type": "stream",
     "text": [
      "My name is Rajeshwari\n",
      "I live in Delhi\n",
      "I work as a Data Scientist\n"
     ]
    }
   ],
   "source": [
    "me = \"\"\"My name is Rajeshwari\n",
    "I live in Delhi\n",
    "I work as a Data Scientist\"\"\"\n",
    "print(me)"
   ]
  },
  {
   "cell_type": "markdown",
   "id": "949b11e2-bb5b-46ef-8940-e7c989171a34",
   "metadata": {},
   "source": [
    "#### 4. Python Keywords\n",
    "##### Keywords are reserved words in Python that cannot be used as variable names."
   ]
  },
  {
   "cell_type": "code",
   "execution_count": 13,
   "id": "c898b460-09ee-4b9b-b734-59913f951b0a",
   "metadata": {},
   "outputs": [
    {
     "name": "stdout",
     "output_type": "stream",
     "text": [
      "Python Keywords:\n",
      "['False', 'None', 'True', 'and', 'as', 'assert', 'async', 'await', 'break', 'class', 'continue', 'def', 'del', 'elif', 'else', 'except', 'finally', 'for', 'from', 'global', 'if', 'import', 'in', 'is', 'lambda', 'nonlocal', 'not', 'or', 'pass', 'raise', 'return', 'try', 'while', 'with', 'yield']\n",
      "Total Keywords: 35\n"
     ]
    }
   ],
   "source": [
    "import keyword\n",
    "print(\"Python Keywords:\")\n",
    "print(keyword.kwlist)\n",
    "print(\"Total Keywords:\", len(keyword.kwlist))\n"
   ]
  },
  {
   "cell_type": "markdown",
   "id": "6e66c0ed-9453-4cda-a70a-f9df955955eb",
   "metadata": {},
   "source": [
    "#### 5. Variable Naming Rules\n",
    "##### Rules for Python variable names:\n",
    "\n",
    "##### Must start with a letter or underscore\n",
    "\n",
    "##### Cannot start with a number\n",
    "\n",
    "##### Can contain letters, digits, and underscores\n",
    "\n",
    "##### Cannot contain special characters like $, &, %\n",
    "\n",
    "##### Cannot contain spaces"
   ]
  },
  {
   "cell_type": "code",
   "execution_count": 15,
   "id": "b60af145-84d0-4e87-b08c-76c973333e88",
   "metadata": {},
   "outputs": [],
   "source": [
    "myname = \"sakshi\"    # Correct\n",
    "# 2myname = \"sakshi\" # Wrong\n",
    "# my-name = \"sakshi\" # Wrong\n",
    "myname_2 = \"sakshi\"   # Correct\n",
    "# my name = \"sakshi\" # Wrong\n"
   ]
  },
  {
   "cell_type": "markdown",
   "id": "19e095e5-843e-40a7-bfb7-3f4a94b4ba9b",
   "metadata": {},
   "source": [
    "#### 6. Working Directory"
   ]
  },
  {
   "cell_type": "code",
   "execution_count": 16,
   "id": "c164a385-4866-40a8-8277-f0e97aff829e",
   "metadata": {},
   "outputs": [
    {
     "name": "stdout",
     "output_type": "stream",
     "text": [
      "Current Working Directory: C:\\Users\\Lenovo\n"
     ]
    }
   ],
   "source": [
    "import os\n",
    "print(\"Current Working Directory:\", os.getcwd())"
   ]
  },
  {
   "cell_type": "markdown",
   "id": "81ab17c2-7a69-4960-8246-0e9b6765961c",
   "metadata": {},
   "source": [
    "#### 7. Operators\n",
    "##### Arithmetic Operators"
   ]
  },
  {
   "cell_type": "code",
   "execution_count": 17,
   "id": "fd12d4e9-4bec-40c8-b53e-1d12d0bb3e99",
   "metadata": {},
   "outputs": [
    {
     "name": "stdout",
     "output_type": "stream",
     "text": [
      "Addition: 7\n",
      "Subtraction: -3\n",
      "Multiplication: 10\n",
      "Division: 0.4\n",
      "Floor Division: 2\n",
      "Modulus (remainder): 1\n",
      "Exponent: 25\n"
     ]
    }
   ],
   "source": [
    "a = 2\n",
    "b = 5\n",
    "\n",
    "print(\"Addition:\", a + b)\n",
    "print(\"Subtraction:\", a - b)\n",
    "print(\"Multiplication:\", a * b)\n",
    "print(\"Division:\", a / b)\n",
    "print(\"Floor Division:\", 5 // 2)\n",
    "print(\"Modulus (remainder):\", 5 % 2)\n",
    "print(\"Exponent:\", 5 ** 2)\n"
   ]
  },
  {
   "cell_type": "markdown",
   "id": "eb62c815-52b3-419c-85a9-1a316aad1336",
   "metadata": {},
   "source": [
    "#### Comparison Operators"
   ]
  },
  {
   "cell_type": "code",
   "execution_count": 18,
   "id": "f8723aa0-ff9e-4194-a0b3-4174b459d9e0",
   "metadata": {},
   "outputs": [
    {
     "name": "stdout",
     "output_type": "stream",
     "text": [
      "False\n",
      "False\n",
      "True\n",
      "True\n",
      "True\n",
      "True\n"
     ]
    }
   ],
   "source": [
    "print(2 > 3)\n",
    "print(4 < 3)\n",
    "print(2 >= 1)\n",
    "print(5 <= 6)\n",
    "print(5 != 6)\n",
    "print(5 == 5)\n"
   ]
  },
  {
   "cell_type": "markdown",
   "id": "cddd72c0-848f-47a5-b03e-22807c08595b",
   "metadata": {},
   "source": [
    "#### Logical Operators"
   ]
  },
  {
   "cell_type": "code",
   "execution_count": 19,
   "id": "9c6d68cd-1abd-4ecf-8cea-fe789c4b5c0c",
   "metadata": {},
   "outputs": [
    {
     "name": "stdout",
     "output_type": "stream",
     "text": [
      "False\n",
      "True\n",
      "False\n"
     ]
    }
   ],
   "source": [
    "print(5 > 2 and 2 < 1)\n",
    "print(5 > 2 or 2 < 1)\n",
    "print(not True)\n"
   ]
  },
  {
   "cell_type": "markdown",
   "id": "2bf7ee8d-d3db-4c68-b5d5-d01062c28679",
   "metadata": {},
   "source": [
    "#### 8. Example: Bonus Calculation"
   ]
  },
  {
   "cell_type": "code",
   "execution_count": 20,
   "id": "6b3780e5-4263-45cf-b262-f44cb20161d6",
   "metadata": {},
   "outputs": [
    {
     "name": "stdin",
     "output_type": "stream",
     "text": [
      "Please enter your salary:  101\n"
     ]
    },
    {
     "name": "stdout",
     "output_type": "stream",
     "text": [
      "Bonus Amount is 5.050000000000001\n"
     ]
    }
   ],
   "source": [
    "# Take salary input from user\n",
    "sal = float(input(\"Please enter your salary: \"))\n",
    "bonus = sal * 0.05\n",
    "print(\"Bonus Amount is\", bonus)\n"
   ]
  },
  {
   "cell_type": "code",
   "execution_count": null,
   "id": "93c14d45-6896-4bba-981e-be4010f8b754",
   "metadata": {},
   "outputs": [],
   "source": []
  }
 ],
 "metadata": {
  "kernelspec": {
   "display_name": "Python 3 (ipykernel)",
   "language": "python",
   "name": "python3"
  },
  "language_info": {
   "codemirror_mode": {
    "name": "ipython",
    "version": 3
   },
   "file_extension": ".py",
   "mimetype": "text/x-python",
   "name": "python",
   "nbconvert_exporter": "python",
   "pygments_lexer": "ipython3",
   "version": "3.11.7"
  }
 },
 "nbformat": 4,
 "nbformat_minor": 5
}
