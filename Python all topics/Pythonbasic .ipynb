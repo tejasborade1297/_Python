{
 "cells": [
  {
   "cell_type": "markdown",
   "id": "884315ea-b784-4015-9dc9-74a9f3a6235a",
   "metadata": {},
   "source": [
    "#### Store variable in memeory based on the Value"
   ]
  },
  {
   "cell_type": "code",
   "execution_count": 58,
   "id": "67aebeb5-5c56-4f19-8479-c06364f3f9ea",
   "metadata": {},
   "outputs": [],
   "source": [
    "a=10\n",
    "b=10"
   ]
  },
  {
   "cell_type": "code",
   "execution_count": 59,
   "id": "bf361d7b-b486-49a8-9589-148428a76459",
   "metadata": {},
   "outputs": [
    {
     "name": "stdout",
     "output_type": "stream",
     "text": [
      "140704651134024 140704651134024\n"
     ]
    }
   ],
   "source": [
    "print(id(a),id(b))"
   ]
  },
  {
   "cell_type": "markdown",
   "id": "90ef4e34-de56-4ca7-974b-3bd0cda05ea2",
   "metadata": {},
   "source": [
    "#### Arthmetic operations"
   ]
  },
  {
   "cell_type": "code",
   "execution_count": 60,
   "id": "2daf065f-ff07-4d31-b494-bc973bda5b0f",
   "metadata": {},
   "outputs": [],
   "source": [
    "c=a+b\n",
    "d=a-b\n",
    "e=a/b\n",
    "f=a*b\n",
    "g=a%3\n",
    "h=a//3\n",
    "i=a**2"
   ]
  },
  {
   "cell_type": "code",
   "execution_count": 61,
   "id": "1d4b852e-0b93-46be-ae3d-805d2a621a7c",
   "metadata": {},
   "outputs": [
    {
     "name": "stdout",
     "output_type": "stream",
     "text": [
      "20\n",
      "0\n",
      "1.0\n",
      "100\n",
      "1\n",
      "3\n",
      "100\n"
     ]
    }
   ],
   "source": [
    "print(c)\n",
    "print(d)\n",
    "print(e)\n",
    "print(f)\n",
    "print(g)\n",
    "print(h)\n",
    "print(i)"
   ]
  },
  {
   "cell_type": "markdown",
   "id": "616aa6da-d756-4533-80ab-55df9cd8f40b",
   "metadata": {},
   "source": [
    "#### Assignment operators"
   ]
  },
  {
   "cell_type": "code",
   "execution_count": 62,
   "id": "442b784b-dd14-4670-ba7a-93a33bf82675",
   "metadata": {},
   "outputs": [],
   "source": [
    "j=5\n",
    "a+=2#k+2\n",
    "b-=8"
   ]
  },
  {
   "cell_type": "code",
   "execution_count": 63,
   "id": "434a5eba-5e58-4fcb-ac26-fbcd3f0d4c4b",
   "metadata": {},
   "outputs": [
    {
     "name": "stdout",
     "output_type": "stream",
     "text": [
      "12\n",
      "2\n"
     ]
    }
   ],
   "source": [
    "print(a)\n",
    "print(b)"
   ]
  },
  {
   "cell_type": "markdown",
   "id": "8d1f9910-abcf-4ddc-8c88-25c96c36be14",
   "metadata": {},
   "source": [
    "#### Comparsion Operators"
   ]
  },
  {
   "cell_type": "code",
   "execution_count": 64,
   "id": "e06ac9b8-0050-4987-b68f-e04b055df1b7",
   "metadata": {},
   "outputs": [],
   "source": [
    "x=10\n",
    "y=20"
   ]
  },
  {
   "cell_type": "code",
   "execution_count": 65,
   "id": "cb76f368-d61f-4215-aa86-47bf1eaad31e",
   "metadata": {},
   "outputs": [
    {
     "name": "stdout",
     "output_type": "stream",
     "text": [
      "False\n",
      "True\n",
      "False\n",
      "True\n",
      "False\n",
      "True\n"
     ]
    }
   ],
   "source": [
    "print(x==y) # equal operation\n",
    "print(x!=y) # not equal\n",
    "print(x>y) # greater than \n",
    "print(x<y) # less than\n",
    "print(x>=y) # greater than or equals\n",
    "print(x<=y) # less  than or equals"
   ]
  },
  {
   "cell_type": "markdown",
   "id": "039cd63e-c8a3-4bc1-91af-74143105ceab",
   "metadata": {},
   "source": [
    "#### Lgical operators"
   ]
  },
  {
   "cell_type": "code",
   "execution_count": 66,
   "id": "56aa6f8f-1fe5-4017-8f4d-a49cf16e60d1",
   "metadata": {},
   "outputs": [],
   "source": [
    "p=18\n",
    "l=28"
   ]
  },
  {
   "cell_type": "code",
   "execution_count": 67,
   "id": "1b3c18bf-a984-4347-97eb-95b627fe31e1",
   "metadata": {},
   "outputs": [
    {
     "name": "stdout",
     "output_type": "stream",
     "text": [
      "True\n",
      "True\n",
      "False\n"
     ]
    }
   ],
   "source": [
    "print(p==18 and p<l) ## Both condition is true that time they return true\n",
    "print(p==16 or p<l)  ## At least one condition is true they return true\n",
    "print( not p==18)   # doing reverse of acture ans"
   ]
  },
  {
   "cell_type": "markdown",
   "id": "a9aa78a9-08f5-4b65-842e-2c4b5a116cc8",
   "metadata": {},
   "source": [
    "#### Membership operators"
   ]
  },
  {
   "cell_type": "code",
   "execution_count": 68,
   "id": "84f14ee6-fd3d-4a7e-aacd-917284371287",
   "metadata": {},
   "outputs": [],
   "source": [
    "string='Tejas'"
   ]
  },
  {
   "cell_type": "code",
   "execution_count": 69,
   "id": "577bcbf0-89b4-443d-9fa8-d1bda3a36f6e",
   "metadata": {},
   "outputs": [
    {
     "name": "stdout",
     "output_type": "stream",
     "text": [
      "True\n",
      "True\n"
     ]
    }
   ],
   "source": [
    "print('T' in string)\n",
    "print('p' not in string)"
   ]
  },
  {
   "cell_type": "markdown",
   "id": "be562328-f0ac-43db-ad3f-379c11a778b0",
   "metadata": {},
   "source": [
    "#### Identity operators"
   ]
  },
  {
   "cell_type": "code",
   "execution_count": 70,
   "id": "3333b3a9-e30b-492b-942a-2a565372ce21",
   "metadata": {},
   "outputs": [],
   "source": [
    "q=10\n",
    "o=20"
   ]
  },
  {
   "cell_type": "code",
   "execution_count": 71,
   "id": "bbca334c-e31a-4f0e-a4a8-1168e7513a4c",
   "metadata": {},
   "outputs": [
    {
     "name": "stdout",
     "output_type": "stream",
     "text": [
      "False\n",
      "True\n"
     ]
    }
   ],
   "source": [
    "print(q is o) # similar to equal operation\n",
    "print(q is not o) # similar to not equal operation"
   ]
  },
  {
   "cell_type": "markdown",
   "id": "8e001235-7dcb-4eb4-a883-6330256077c6",
   "metadata": {},
   "source": [
    "### Data Type"
   ]
  },
  {
   "cell_type": "markdown",
   "id": "aebd9913-de9f-4ee8-bcbb-3e02db5c2730",
   "metadata": {},
   "source": [
    "#### List "
   ]
  },
  {
   "cell_type": "markdown",
   "id": "b8a74834-14b0-4489-bc8a-d9b9109b7411",
   "metadata": {},
   "source": [
    "#### A list is a built-in mutable, ordered collection of items that can hold elements of any data type (e.g., integers, strings, other lists, etc.)."
   ]
  },
  {
   "cell_type": "code",
   "execution_count": 72,
   "id": "0de67818-9af6-4c85-84b0-929e34ee802e",
   "metadata": {},
   "outputs": [],
   "source": [
    "l=['tejas','mayur','kashinath','ashok','vinod','ramdev','lokesh']"
   ]
  },
  {
   "cell_type": "code",
   "execution_count": 73,
   "id": "04f44484-65b6-490c-be2d-44387d73a319",
   "metadata": {},
   "outputs": [
    {
     "name": "stdout",
     "output_type": "stream",
     "text": [
      "['tejas', 'mayur', 'kashinath', 'ashok', 'vinod', 'ramdev', 'lokesh', 'pranav']\n"
     ]
    }
   ],
   "source": [
    "l.append('pranav') # add value at the end\n",
    "print(l)"
   ]
  },
  {
   "cell_type": "code",
   "execution_count": 74,
   "id": "d5b5ca1c-b31b-4573-ab3f-39e8f1bfa5a3",
   "metadata": {},
   "outputs": [
    {
     "name": "stdout",
     "output_type": "stream",
     "text": [
      "['sunny', 'tejas', 'mayur', 'kashinath', 'ashok', 'vinod', 'ramdev', 'lokesh', 'pranav']\n"
     ]
    }
   ],
   "source": [
    "l.insert(0,'sunny') # insert the value in particular location of list\n",
    "print(l)"
   ]
  },
  {
   "cell_type": "code",
   "execution_count": 75,
   "id": "00de8f55-b508-4644-966d-15775a4e48a5",
   "metadata": {},
   "outputs": [
    {
     "name": "stdout",
     "output_type": "stream",
     "text": [
      "['sunny', 'tejas', 'mayur', 'kashinath', 'ashok', 'vinod', 'ramdev', 'lokesh', 'pranav', 'raju', 'yadhnesh']\n"
     ]
    }
   ],
   "source": [
    "l.extend(['raju','yadhnesh']) # add other list to previous list\n",
    "print(l)"
   ]
  },
  {
   "cell_type": "code",
   "execution_count": 76,
   "id": "b9480dd2-21ee-46ed-895d-77486be74239",
   "metadata": {},
   "outputs": [
    {
     "name": "stdout",
     "output_type": "stream",
     "text": [
      "['tejas', 'mayur', 'kashinath', 'ashok', 'vinod', 'ramdev', 'lokesh', 'pranav', 'raju', 'yadhnesh']\n"
     ]
    }
   ],
   "source": [
    "l.remove('sunny') # remove value \n",
    "print(l) "
   ]
  },
  {
   "cell_type": "code",
   "execution_count": 77,
   "id": "05f925bf-335c-41e5-b120-431af556093c",
   "metadata": {},
   "outputs": [
    {
     "data": {
      "text/plain": [
       "'yadhnesh'"
      ]
     },
     "execution_count": 77,
     "metadata": {},
     "output_type": "execute_result"
    }
   ],
   "source": [
    "l.pop() # remove end value of list"
   ]
  },
  {
   "cell_type": "code",
   "execution_count": 78,
   "id": "f08aea63-adb9-4281-9563-31b6afda82b5",
   "metadata": {},
   "outputs": [
    {
     "data": {
      "text/plain": [
       "1"
      ]
     },
     "execution_count": 78,
     "metadata": {},
     "output_type": "execute_result"
    }
   ],
   "source": [
    "l.count('raju') # count the value"
   ]
  },
  {
   "cell_type": "code",
   "execution_count": 79,
   "id": "534c6534-2627-4233-b777-655110dea0ff",
   "metadata": {},
   "outputs": [
    {
     "data": {
      "text/plain": [
       "0"
      ]
     },
     "execution_count": 79,
     "metadata": {},
     "output_type": "execute_result"
    }
   ],
   "source": [
    "l.index('tejas') # find the index based on the value"
   ]
  },
  {
   "cell_type": "code",
   "execution_count": 80,
   "id": "8380aae3-6736-4ecc-9628-387e61c26d26",
   "metadata": {},
   "outputs": [
    {
     "name": "stdout",
     "output_type": "stream",
     "text": [
      "['ashok', 'kashinath', 'lokesh', 'mayur', 'pranav', 'raju', 'ramdev', 'tejas', 'vinod']\n"
     ]
    }
   ],
   "source": [
    "l.sort()\n",
    "print(l)"
   ]
  },
  {
   "cell_type": "code",
   "execution_count": 81,
   "id": "87198687-b61e-4b56-950c-70649a2769f8",
   "metadata": {},
   "outputs": [
    {
     "name": "stdout",
     "output_type": "stream",
     "text": [
      "['vinod', 'tejas', 'ramdev', 'raju', 'pranav', 'mayur', 'lokesh', 'kashinath', 'ashok']\n"
     ]
    }
   ],
   "source": [
    "l.reverse() \n",
    "print(l)"
   ]
  },
  {
   "cell_type": "code",
   "execution_count": 82,
   "id": "0b7a1fc9-30d2-4e2d-9986-06f03c171021",
   "metadata": {},
   "outputs": [],
   "source": [
    "# l.clear()\n",
    "# print(l)"
   ]
  },
  {
   "cell_type": "code",
   "execution_count": 83,
   "id": "89c018c9-093d-4d69-b035-aef6eefca229",
   "metadata": {},
   "outputs": [
    {
     "data": {
      "text/plain": [
       "['vinod', 'tejas', 'ramdev', 'raju', 'pranav']"
      ]
     },
     "execution_count": 83,
     "metadata": {},
     "output_type": "execute_result"
    }
   ],
   "source": [
    "l[0:5] # retrive value using a slicing methods"
   ]
  },
  {
   "cell_type": "code",
   "execution_count": 84,
   "id": "ebe0799a-26fa-4a80-88b8-242f9a0a8e67",
   "metadata": {},
   "outputs": [
    {
     "data": {
      "text/plain": [
       "['vinod', 'ramdev', 'pranav']"
      ]
     },
     "execution_count": 84,
     "metadata": {},
     "output_type": "execute_result"
    }
   ],
   "source": [
    "l[0:5:2]"
   ]
  },
  {
   "cell_type": "code",
   "execution_count": 85,
   "id": "e1ce11b0-4fd4-4ebb-880f-a028bb726935",
   "metadata": {},
   "outputs": [
    {
     "data": {
      "text/plain": [
       "['mayur', 'pranav', 'raju', 'ramdev', 'tejas', 'vinod']"
      ]
     },
     "execution_count": 85,
     "metadata": {},
     "output_type": "execute_result"
    }
   ],
   "source": [
    "l[5::-1]"
   ]
  },
  {
   "cell_type": "code",
   "execution_count": 86,
   "id": "d48b4a7b-c2f4-44f6-a150-99e345358052",
   "metadata": {},
   "outputs": [],
   "source": [
    "p=[10,20,30,40,40,50,60,70,80,90,100]"
   ]
  },
  {
   "cell_type": "code",
   "execution_count": 87,
   "id": "3b3721c0-1e22-44d2-bc15-e96e9f5c7c5b",
   "metadata": {},
   "outputs": [],
   "source": [
    "p.sort()"
   ]
  },
  {
   "cell_type": "code",
   "execution_count": 88,
   "id": "e02b3582-a1b1-4160-b5b3-55046c2ad842",
   "metadata": {},
   "outputs": [],
   "source": [
    "p.reverse()"
   ]
  },
  {
   "cell_type": "code",
   "execution_count": 89,
   "id": "b3fed83b-b007-4cb1-b176-e5a45ff3c373",
   "metadata": {},
   "outputs": [
    {
     "data": {
      "text/plain": [
       "5"
      ]
     },
     "execution_count": 89,
     "metadata": {},
     "output_type": "execute_result"
    }
   ],
   "source": [
    "p.index(50)"
   ]
  },
  {
   "cell_type": "code",
   "execution_count": 90,
   "id": "6e32fccb-450d-4e33-bc8b-9d5560c01689",
   "metadata": {},
   "outputs": [
    {
     "data": {
      "text/plain": [
       "2"
      ]
     },
     "execution_count": 90,
     "metadata": {},
     "output_type": "execute_result"
    }
   ],
   "source": [
    "p.count(40)"
   ]
  },
  {
   "cell_type": "code",
   "execution_count": 91,
   "id": "ff4b12f8-6af1-40fb-ab3d-f8d0865ffc8f",
   "metadata": {},
   "outputs": [
    {
     "name": "stdout",
     "output_type": "stream",
     "text": [
      "[100, 90, 80, 70, 60, 50, 40, 40, 30, 20, 10]\n"
     ]
    }
   ],
   "source": [
    "print(p)"
   ]
  },
  {
   "cell_type": "code",
   "execution_count": 92,
   "id": "1f89c2fe-01f0-41fb-8bf7-60728d2035fc",
   "metadata": {},
   "outputs": [
    {
     "data": {
      "text/plain": [
       "100"
      ]
     },
     "execution_count": 92,
     "metadata": {},
     "output_type": "execute_result"
    }
   ],
   "source": [
    "max(p)"
   ]
  },
  {
   "cell_type": "code",
   "execution_count": 93,
   "id": "e562dc04-578d-4a7f-b0f3-405af7f26c65",
   "metadata": {},
   "outputs": [
    {
     "name": "stdout",
     "output_type": "stream",
     "text": [
      "None\n"
     ]
    }
   ],
   "source": [
    "print(p.reverse())"
   ]
  },
  {
   "cell_type": "markdown",
   "id": "9a5fc093-ad08-4bb7-99d2-93534e1f1e38",
   "metadata": {},
   "source": [
    "#### Tuple"
   ]
  },
  {
   "cell_type": "markdown",
   "id": "f7e63025-e399-4c15-add8-d90533c41cef",
   "metadata": {},
   "source": [
    "####  A tuple is an immutable, ordered collection of items. Tuples are very similar to lists, but unlike lists, they cannot be changed (i.e., they are immutable) after creation."
   ]
  },
  {
   "cell_type": "code",
   "execution_count": 94,
   "id": "0d93991f-de0a-4716-973d-372a4b3730cd",
   "metadata": {},
   "outputs": [],
   "source": [
    "o=(1,5,3,4,5,9,3,6)"
   ]
  },
  {
   "cell_type": "code",
   "execution_count": 95,
   "id": "144b14d2-3610-42de-96df-967fdda8af8b",
   "metadata": {},
   "outputs": [
    {
     "data": {
      "text/plain": [
       "2"
      ]
     },
     "execution_count": 95,
     "metadata": {},
     "output_type": "execute_result"
    }
   ],
   "source": [
    "o.count(3)"
   ]
  },
  {
   "cell_type": "code",
   "execution_count": 96,
   "id": "4962946d-f38c-44fd-a85a-b89c559a3f13",
   "metadata": {},
   "outputs": [
    {
     "data": {
      "text/plain": [
       "1"
      ]
     },
     "execution_count": 96,
     "metadata": {},
     "output_type": "execute_result"
    }
   ],
   "source": [
    "o.index(5)"
   ]
  },
  {
   "cell_type": "markdown",
   "id": "4d895f37-fda8-4136-ba5c-750c376e2f1f",
   "metadata": {},
   "source": [
    "### set"
   ]
  },
  {
   "cell_type": "markdown",
   "id": "36e421ea-fe62-4644-adce-5160c753f60d",
   "metadata": {},
   "source": [
    "#### a set is an unordered, mutable, and unindexed collection that does not allow duplicate elements."
   ]
  },
  {
   "cell_type": "code",
   "execution_count": 97,
   "id": "65b8d8c9-99f0-427e-ad88-cc88c7905dfe",
   "metadata": {},
   "outputs": [],
   "source": [
    "d={1,2,3,4,5,6,7,8}"
   ]
  },
  {
   "cell_type": "code",
   "execution_count": 98,
   "id": "013cf77b-8e86-4dee-ba89-6782e4523630",
   "metadata": {},
   "outputs": [
    {
     "name": "stdout",
     "output_type": "stream",
     "text": [
      "{1, 2, 3, 4, 5, 6, 7, 8, 9}\n"
     ]
    }
   ],
   "source": [
    "d.add(9) # only single value add that time use add fuction\n",
    "print(d)"
   ]
  },
  {
   "cell_type": "code",
   "execution_count": 99,
   "id": "cef5091c-8613-489b-969a-72500066c9ef",
   "metadata": {},
   "outputs": [
    {
     "name": "stdout",
     "output_type": "stream",
     "text": [
      "{1, 2, 3, 4, 5, 6, 7, 8, 9, 10, 11, 12}\n"
     ]
    }
   ],
   "source": [
    "d.update([10,11,12]) # multiple value added in set that time need to update function\n",
    "print(d)"
   ]
  },
  {
   "cell_type": "code",
   "execution_count": 100,
   "id": "0d0fe67b-b80e-445f-b80d-e3714f792412",
   "metadata": {},
   "outputs": [
    {
     "name": "stdout",
     "output_type": "stream",
     "text": [
      "{1, 2, 3, 4, 5, 6, 7, 8, 9, 10, 11}\n"
     ]
    }
   ],
   "source": [
    "d.remove(12)\n",
    "print(d)"
   ]
  },
  {
   "cell_type": "code",
   "execution_count": 101,
   "id": "7a23d047-76d3-4a91-8d47-ce42ef2356a8",
   "metadata": {},
   "outputs": [
    {
     "data": {
      "text/plain": [
       "1"
      ]
     },
     "execution_count": 101,
     "metadata": {},
     "output_type": "execute_result"
    }
   ],
   "source": [
    "d.pop()"
   ]
  },
  {
   "cell_type": "code",
   "execution_count": 102,
   "id": "9e3bdb2d-522f-46a4-9415-3207823094bb",
   "metadata": {},
   "outputs": [
    {
     "name": "stdout",
     "output_type": "stream",
     "text": [
      "{2, 3, 4, 5, 6, 7, 8, 9, 10}\n"
     ]
    }
   ],
   "source": [
    "d.discard(11)\n",
    "print(d)"
   ]
  },
  {
   "cell_type": "code",
   "execution_count": 103,
   "id": "bb34707f-fa0a-4e8f-97bf-3f1d6b247f2f",
   "metadata": {},
   "outputs": [],
   "source": [
    "c={2,3,4}"
   ]
  },
  {
   "cell_type": "code",
   "execution_count": 104,
   "id": "010338c2-5f80-4b50-9a11-b5d444446d6a",
   "metadata": {},
   "outputs": [
    {
     "data": {
      "text/plain": [
       "True"
      ]
     },
     "execution_count": 104,
     "metadata": {},
     "output_type": "execute_result"
    }
   ],
   "source": [
    "c.issubset(d)"
   ]
  },
  {
   "cell_type": "code",
   "execution_count": 105,
   "id": "de6886bb-9763-4752-8bc0-e0db4d9a2005",
   "metadata": {},
   "outputs": [
    {
     "data": {
      "text/plain": [
       "True"
      ]
     },
     "execution_count": 105,
     "metadata": {},
     "output_type": "execute_result"
    }
   ],
   "source": [
    "d.issuperset(c)"
   ]
  },
  {
   "cell_type": "code",
   "execution_count": 106,
   "id": "aae808d9-d8ad-4415-963e-7755aa07092f",
   "metadata": {},
   "outputs": [],
   "source": [
    "a={1,2,3,4,5}\n",
    "b={4,5,6,7,8}"
   ]
  },
  {
   "cell_type": "code",
   "execution_count": 107,
   "id": "7f555c3d-20fa-40f8-96a4-f4e81c59b568",
   "metadata": {},
   "outputs": [
    {
     "data": {
      "text/plain": [
       "{1, 2, 3, 4, 5, 6, 7, 8}"
      ]
     },
     "execution_count": 107,
     "metadata": {},
     "output_type": "execute_result"
    }
   ],
   "source": [
    "a.union(b)"
   ]
  },
  {
   "cell_type": "code",
   "execution_count": 108,
   "id": "f1895563-ee7f-40cd-a997-14e7a8a5c8c7",
   "metadata": {},
   "outputs": [
    {
     "data": {
      "text/plain": [
       "{4, 5}"
      ]
     },
     "execution_count": 108,
     "metadata": {},
     "output_type": "execute_result"
    }
   ],
   "source": [
    "a.intersection(b)"
   ]
  },
  {
   "cell_type": "code",
   "execution_count": 109,
   "id": "afd72751-fd5b-4d00-a2be-f95b449552fe",
   "metadata": {},
   "outputs": [
    {
     "data": {
      "text/plain": [
       "{1, 2, 3, 6, 7, 8}"
      ]
     },
     "execution_count": 109,
     "metadata": {},
     "output_type": "execute_result"
    }
   ],
   "source": [
    "a.symmetric_difference(b)"
   ]
  },
  {
   "cell_type": "code",
   "execution_count": 111,
   "id": "817b85cd-2a8a-4ade-ac75-7139fb71a36e",
   "metadata": {},
   "outputs": [
    {
     "data": {
      "text/plain": [
       "{1, 2, 3}"
      ]
     },
     "execution_count": 111,
     "metadata": {},
     "output_type": "execute_result"
    }
   ],
   "source": [
    "a.difference(b)"
   ]
  },
  {
   "cell_type": "markdown",
   "id": "3f1b10aa-58d9-45eb-a207-4f8311e06b1b",
   "metadata": {},
   "source": [
    "#### Dictionary"
   ]
  },
  {
   "cell_type": "markdown",
   "id": "58a2b5a8-c988-4bff-8e6a-514c8d66c961",
   "metadata": {},
   "source": [
    "####  a dictionary is an unordered, mutable collection of key-value pairs. It is one of the most powerful built-in data types."
   ]
  },
  {
   "cell_type": "code",
   "execution_count": 112,
   "id": "4396c75d-019e-48f0-bd25-5bdeda937f7a",
   "metadata": {},
   "outputs": [],
   "source": [
    "student = {\n",
    "    \"name\": \"Alice\",\n",
    "    \"age\": 22,\n",
    "    \"major\": \"Computer Science\"\n",
    "}"
   ]
  },
  {
   "cell_type": "code",
   "execution_count": 113,
   "id": "698f02c0-353b-4e31-b410-911d8b95b18d",
   "metadata": {},
   "outputs": [
    {
     "data": {
      "text/plain": [
       "'Alice'"
      ]
     },
     "execution_count": 113,
     "metadata": {},
     "output_type": "execute_result"
    }
   ],
   "source": [
    "student.get('name')"
   ]
  },
  {
   "cell_type": "code",
   "execution_count": 114,
   "id": "ec7715cb-513d-4d22-a067-773f7246c94a",
   "metadata": {},
   "outputs": [
    {
     "data": {
      "text/plain": [
       "dict_keys(['name', 'age', 'major'])"
      ]
     },
     "execution_count": 114,
     "metadata": {},
     "output_type": "execute_result"
    }
   ],
   "source": [
    "student.keys()"
   ]
  },
  {
   "cell_type": "code",
   "execution_count": 115,
   "id": "665b0f0f-2344-41b3-8b18-acc1a67f962e",
   "metadata": {},
   "outputs": [
    {
     "data": {
      "text/plain": [
       "dict_values(['Alice', 22, 'Computer Science'])"
      ]
     },
     "execution_count": 115,
     "metadata": {},
     "output_type": "execute_result"
    }
   ],
   "source": [
    "student.values()"
   ]
  },
  {
   "cell_type": "code",
   "execution_count": 116,
   "id": "38ac34fe-b2fd-4f54-ae01-6828605f8e39",
   "metadata": {},
   "outputs": [
    {
     "data": {
      "text/plain": [
       "dict_items([('name', 'Alice'), ('age', 22), ('major', 'Computer Science')])"
      ]
     },
     "execution_count": 116,
     "metadata": {},
     "output_type": "execute_result"
    }
   ],
   "source": [
    "student.items()"
   ]
  },
  {
   "cell_type": "code",
   "execution_count": 117,
   "id": "68846646-597a-4229-8f54-5e19daeeab85",
   "metadata": {},
   "outputs": [],
   "source": [
    "student.update({'name':'Tejas'})"
   ]
  },
  {
   "cell_type": "code",
   "execution_count": 118,
   "id": "0b94fbbc-8f54-48d7-b9e0-65e24efac09e",
   "metadata": {},
   "outputs": [
    {
     "name": "stdout",
     "output_type": "stream",
     "text": [
      "{'name': 'Tejas', 'age': 22, 'major': 'Computer Science'}\n"
     ]
    }
   ],
   "source": [
    "print(student)"
   ]
  },
  {
   "cell_type": "code",
   "execution_count": 119,
   "id": "1d98c3af-d9a0-4705-8368-2287cd53cf4c",
   "metadata": {},
   "outputs": [
    {
     "data": {
      "text/plain": [
       "22"
      ]
     },
     "execution_count": 119,
     "metadata": {},
     "output_type": "execute_result"
    }
   ],
   "source": [
    "student.pop('age')"
   ]
  },
  {
   "cell_type": "code",
   "execution_count": 120,
   "id": "db944cd3-8a1e-40d7-bb05-e8bd51768dc0",
   "metadata": {},
   "outputs": [
    {
     "data": {
      "text/plain": [
       "{'name': 'Tejas', 'major': 'Computer Science'}"
      ]
     },
     "execution_count": 120,
     "metadata": {},
     "output_type": "execute_result"
    }
   ],
   "source": [
    "student"
   ]
  },
  {
   "cell_type": "code",
   "execution_count": 121,
   "id": "5fc7ae04-fc85-4d32-9646-39c56467a082",
   "metadata": {},
   "outputs": [],
   "source": [
    "l=['age','name','location']\n",
    "t=dict.fromkeys(l)"
   ]
  },
  {
   "cell_type": "markdown",
   "id": "7396041e-da07-4392-b694-2491ba1c741d",
   "metadata": {},
   "source": [
    "#### String"
   ]
  },
  {
   "cell_type": "markdown",
   "id": "dcbe602a-5e4f-4846-985b-c751b3cfb9b7",
   "metadata": {},
   "source": [
    "#### String is sequential character, mutable"
   ]
  },
  {
   "cell_type": "code",
   "execution_count": 122,
   "id": "1730741e-fc41-42e9-8db9-76cf95bc9023",
   "metadata": {},
   "outputs": [
    {
     "data": {
      "text/plain": [
       "'zeal is good college of engg'"
      ]
     },
     "execution_count": 122,
     "metadata": {},
     "output_type": "execute_result"
    }
   ],
   "source": [
    "s='Zeal is good college of engg'\n",
    "s.lower()"
   ]
  },
  {
   "cell_type": "code",
   "execution_count": 123,
   "id": "ad8f99f2-d49f-43b1-9daa-06fe9dfeccab",
   "metadata": {},
   "outputs": [
    {
     "data": {
      "text/plain": [
       "'Zeal is good college of engg'"
      ]
     },
     "execution_count": 123,
     "metadata": {},
     "output_type": "execute_result"
    }
   ],
   "source": [
    "s.upper()\n",
    "s.capitalize()"
   ]
  },
  {
   "cell_type": "code",
   "execution_count": 124,
   "id": "910264ce-1262-4808-a9c2-6cd0d048597d",
   "metadata": {},
   "outputs": [
    {
     "data": {
      "text/plain": [
       "'Zeal Is Good College Of Engg'"
      ]
     },
     "execution_count": 124,
     "metadata": {},
     "output_type": "execute_result"
    }
   ],
   "source": [
    "s.title()"
   ]
  },
  {
   "cell_type": "code",
   "execution_count": 125,
   "id": "26a2b9be-f638-4fc3-a077-13e7b46ec61e",
   "metadata": {},
   "outputs": [
    {
     "data": {
      "text/plain": [
       "-1"
      ]
     },
     "execution_count": 125,
     "metadata": {},
     "output_type": "execute_result"
    }
   ],
   "source": [
    "s.find('G')"
   ]
  },
  {
   "cell_type": "code",
   "execution_count": 126,
   "id": "81f37be4-6fff-49c1-9738-c0407c96c139",
   "metadata": {},
   "outputs": [
    {
     "data": {
      "text/plain": [
       "9"
      ]
     },
     "execution_count": 126,
     "metadata": {},
     "output_type": "execute_result"
    }
   ],
   "source": [
    "s.index('o')"
   ]
  },
  {
   "cell_type": "code",
   "execution_count": 127,
   "id": "8a22a3a2-40c0-43a6-8eb3-fae3195b7fd3",
   "metadata": {},
   "outputs": [
    {
     "data": {
      "text/plain": [
       "True"
      ]
     },
     "execution_count": 127,
     "metadata": {},
     "output_type": "execute_result"
    }
   ],
   "source": [
    "s.startswith('Zeal')"
   ]
  },
  {
   "cell_type": "code",
   "execution_count": 128,
   "id": "7f51e9ad-ec44-4309-9bf3-7f291fd34975",
   "metadata": {},
   "outputs": [
    {
     "data": {
      "text/plain": [
       "True"
      ]
     },
     "execution_count": 128,
     "metadata": {},
     "output_type": "execute_result"
    }
   ],
   "source": [
    "s.endswith('engg')"
   ]
  },
  {
   "cell_type": "code",
   "execution_count": 129,
   "id": "2f6dc707-44d6-4dbc-9850-8866c8e7e965",
   "metadata": {},
   "outputs": [
    {
     "name": "stdout",
     "output_type": "stream",
     "text": [
      "Zeal is good college for Mechanical & Entc engg\n"
     ]
    }
   ],
   "source": [
    "b='Zeal is good college for {} & {} engg'.format('Mechanical','Entc')\n",
    "print(b)\n"
   ]
  },
  {
   "cell_type": "code",
   "execution_count": 130,
   "id": "18a735cf-9be7-4503-b977-135551dfdcc7",
   "metadata": {},
   "outputs": [
    {
     "data": {
      "text/plain": [
       "['Zeal', 'is', 'good', 'college', 'for', 'Mechanical', '&', 'Entc', 'engg']"
      ]
     },
     "execution_count": 130,
     "metadata": {},
     "output_type": "execute_result"
    }
   ],
   "source": [
    "# convert string to list\n",
    "b.split(' ')"
   ]
  },
  {
   "cell_type": "markdown",
   "id": "e3d60e74-53b1-427f-9175-ea9731e1a1b9",
   "metadata": {},
   "source": [
    "### if, elif, and else "
   ]
  },
  {
   "cell_type": "markdown",
   "id": "bc41011a-7aa8-43f1-9b04-388704dcad51",
   "metadata": {},
   "source": [
    "#### In Python, if, elif, and else are used to perform conditional branching — they let your program make decisions and execute certain blocks of code based on conditions."
   ]
  },
  {
   "cell_type": "code",
   "execution_count": 132,
   "id": "e11c94ea-83df-4e02-84e2-0e0e3f41a9b8",
   "metadata": {},
   "outputs": [],
   "source": [
    "# if condition1:\n",
    "#     # block of code if condition1 is True\n",
    "# elif condition2:\n",
    "#     # block of code if condition2 is True\n",
    "# else:\n",
    "#     # block of code if none of the above conditions are True\n"
   ]
  },
  {
   "cell_type": "code",
   "execution_count": 133,
   "id": "877d5778-1090-4d5e-992f-3a5e7639cfcd",
   "metadata": {},
   "outputs": [
    {
     "name": "stdout",
     "output_type": "stream",
     "text": [
      "You are an adult.\n"
     ]
    }
   ],
   "source": [
    "age = 20\n",
    "\n",
    "if age < 18:\n",
    "    print(\"You are a minor.\")\n",
    "elif age == 18:\n",
    "    print(\"You just became an adult.\")\n",
    "else:\n",
    "    print(\"You are an adult.\")\n"
   ]
  },
  {
   "cell_type": "markdown",
   "id": "03427529-44e8-4c6b-b362-4be4b9f045e7",
   "metadata": {},
   "source": [
    "### for Loop"
   ]
  },
  {
   "cell_type": "markdown",
   "id": "f7862021-768e-4e30-9683-9555d0285b36",
   "metadata": {},
   "source": [
    "#### A for loop in Python is used to iterate over a sequence (like a list, tuple, dictionary, string, or range) and execute a block of code for each item."
   ]
  },
  {
   "cell_type": "code",
   "execution_count": 134,
   "id": "3892bf98-47fa-4320-b4cb-bf7fb955ae2a",
   "metadata": {},
   "outputs": [
    {
     "name": "stdout",
     "output_type": "stream",
     "text": [
      "apple\n",
      "banana\n",
      "cherry\n"
     ]
    }
   ],
   "source": [
    "fruits = [\"apple\", \"banana\", \"cherry\"]\n",
    "\n",
    "for fruit in fruits:\n",
    "    print(fruit)\n"
   ]
  },
  {
   "cell_type": "code",
   "execution_count": 135,
   "id": "45aa61da-adfc-4399-8fcf-c2b8d8942068",
   "metadata": {},
   "outputs": [
    {
     "name": "stdout",
     "output_type": "stream",
     "text": [
      "apple\n",
      "banana\n",
      "cherry\n"
     ]
    }
   ],
   "source": [
    "for i in range(len(fruits)):\n",
    "    print(fruits[i])"
   ]
  },
  {
   "cell_type": "code",
   "execution_count": 136,
   "id": "b2110b8a-ab5e-4f7a-a74d-c9bc18e15283",
   "metadata": {},
   "outputs": [
    {
     "name": "stdout",
     "output_type": "stream",
     "text": [
      "2 3 4 5 6 7 8 9 "
     ]
    }
   ],
   "source": [
    "for i in range(2,10):\n",
    "    print(i,end=\" \")"
   ]
  },
  {
   "cell_type": "code",
   "execution_count": 137,
   "id": "79dde416-1be1-4936-a4c4-79aede7e07f6",
   "metadata": {},
   "outputs": [
    {
     "name": "stdout",
     "output_type": "stream",
     "text": [
      "[2, 3, 5, 7, 11, 13, 17, 19, 23, 29, 31, 37, 41, 43, 47, 53, 59, 61, 67, 71, 73, 79, 83, 89, 97]\n"
     ]
    }
   ],
   "source": [
    "l=[]\n",
    "for i in range(2,100):\n",
    "    for j in range(2,i):\n",
    "        if i%j==0:\n",
    "            break\n",
    "    else:\n",
    "        l.append(i)\n",
    "print(l)"
   ]
  },
  {
   "cell_type": "code",
   "execution_count": 138,
   "id": "f6aaf468-627c-485b-8033-914951fa5b4b",
   "metadata": {},
   "outputs": [],
   "source": [
    "t=[1,2,3,4,5,6]\n",
    "b=[11,12,13,14,15,16]"
   ]
  },
  {
   "cell_type": "code",
   "execution_count": 139,
   "id": "3850e704-0f79-40dd-9a4e-8a7e6cfc7af4",
   "metadata": {},
   "outputs": [
    {
     "name": "stdout",
     "output_type": "stream",
     "text": [
      "1 11\n",
      "2 12\n",
      "3 13\n",
      "4 14\n",
      "5 15\n",
      "6 16\n"
     ]
    }
   ],
   "source": [
    "for a,z in zip(t,b):\n",
    "    print(a,z)"
   ]
  },
  {
   "cell_type": "code",
   "execution_count": 140,
   "id": "ad6358a7-3c67-4fc7-b790-b44b8338796b",
   "metadata": {},
   "outputs": [
    {
     "name": "stdout",
     "output_type": "stream",
     "text": [
      "0 1\n",
      "1 2\n",
      "2 3\n",
      "3 4\n",
      "4 5\n",
      "5 6\n"
     ]
    }
   ],
   "source": [
    "for index,value in enumerate(t): # Give the values index \n",
    "    print(index,value)"
   ]
  },
  {
   "cell_type": "markdown",
   "id": "8412ead7-e2f9-4dac-87ae-6b4c6962cbb5",
   "metadata": {},
   "source": [
    "#### User-Defined Functions in Python"
   ]
  },
  {
   "cell_type": "markdown",
   "id": "419a4eca-0c85-4d2b-9de1-993c22531277",
   "metadata": {},
   "source": [
    "##### A user-defined function is a block of reusable code that you create using the def keyword. It allows you to organize code, avoid repetition, and make programs more readable and modular."
   ]
  },
  {
   "cell_type": "code",
   "execution_count": 1,
   "id": "3f7292d9-5072-4d5a-982b-3ba23782023f",
   "metadata": {},
   "outputs": [],
   "source": [
    "## Syntax\n",
    "def name(paramter):\n",
    "    for i in paramter:\n",
    "        if i>15:\n",
    "            return True\n",
    "    return False"
   ]
  },
  {
   "cell_type": "code",
   "execution_count": 141,
   "id": "955812a4-73f2-45cd-b654-185783f076df",
   "metadata": {},
   "outputs": [],
   "source": [
    "def largestnum(num):\n",
    "    first=second=third=float('-inf')\n",
    "    for i in range(len(num)):\n",
    "        if num[i]>first:\n",
    "            third=second\n",
    "            second=first\n",
    "            first=num[i]\n",
    "        elif num[i]>second and num[i]!=first:\n",
    "            third=second\n",
    "            second=num[i]\n",
    "            \n",
    "    return second"
   ]
  },
  {
   "cell_type": "code",
   "execution_count": 142,
   "id": "ae987fc5-5d49-41a6-aebd-a103343dde0d",
   "metadata": {},
   "outputs": [
    {
     "name": "stdout",
     "output_type": "stream",
     "text": [
      "35\n"
     ]
    }
   ],
   "source": [
    "o=[15,17,35,9,45]\n",
    "print(largestnum(o))"
   ]
  },
  {
   "cell_type": "code",
   "execution_count": 143,
   "id": "549fdcd5-d8f9-46b6-a70f-3f8d2fa48b85",
   "metadata": {},
   "outputs": [],
   "source": [
    "def findvaluenu(value):\n",
    "    x={}\n",
    "    for i in value:\n",
    "        if i in x:\n",
    "            return 0\n",
    "        else:\n",
    "            x[i]=1\n",
    "    return x"
   ]
  },
  {
   "cell_type": "code",
   "execution_count": 144,
   "id": "addf25d0-25cd-459b-bec2-e2b4f7bdafc5",
   "metadata": {},
   "outputs": [
    {
     "name": "stdout",
     "output_type": "stream",
     "text": [
      "0\n"
     ]
    }
   ],
   "source": [
    "p='tejaas'\n",
    "print(findvaluenu(p))"
   ]
  },
  {
   "cell_type": "code",
   "execution_count": 145,
   "id": "97b14832-de2a-4af2-adf6-60a18df42896",
   "metadata": {},
   "outputs": [
    {
     "name": "stdout",
     "output_type": "stream",
     "text": [
      "1\n",
      "1\n",
      "1\n",
      "0\n",
      "1\n",
      "1\n",
      "1\n"
     ]
    }
   ],
   "source": [
    "for i in range(len(p)):\n",
    "    val1=p[i]\n",
    "    for j in range(i+1,len(p)):\n",
    "        val2=p[j]\n",
    "        if val1==val2:\n",
    "            print (0)\n",
    "    else:\n",
    "        print(1)"
   ]
  },
  {
   "cell_type": "markdown",
   "id": "d6d73bc2-c6c5-4afe-a442-56ad3c092041",
   "metadata": {},
   "source": [
    "#### A Simple Function Without Parameters"
   ]
  },
  {
   "cell_type": "code",
   "execution_count": 146,
   "id": "3e94bfd3-4abe-4d13-b20d-dd96a4cf5cd0",
   "metadata": {},
   "outputs": [],
   "source": [
    "def function_name():\n",
    "    # code block\n",
    "    return result  # optional\n"
   ]
  },
  {
   "cell_type": "markdown",
   "id": "ec82b253-667b-4170-bbbc-57696103d32b",
   "metadata": {},
   "source": [
    "#### Function With Parameters"
   ]
  },
  {
   "cell_type": "code",
   "execution_count": 147,
   "id": "0c5fb398-9268-49c2-8a39-ec60e8f4f18c",
   "metadata": {},
   "outputs": [
    {
     "name": "stdout",
     "output_type": "stream",
     "text": [
      "Sum: 8\n"
     ]
    }
   ],
   "source": [
    "def add(a, b):\n",
    "    return a + b\n",
    "\n",
    "result = add(5, 3)\n",
    "print(\"Sum:\", result)\n"
   ]
  },
  {
   "cell_type": "markdown",
   "id": "e0877eee-4e7e-445e-952d-1a71c30e3b18",
   "metadata": {},
   "source": [
    "#### Function With Default Parameters"
   ]
  },
  {
   "cell_type": "code",
   "execution_count": 148,
   "id": "22f7cdf6-c793-448d-b4da-2aec9d35bfd0",
   "metadata": {},
   "outputs": [
    {
     "name": "stdout",
     "output_type": "stream",
     "text": [
      "Hello, Alice!\n",
      "Hello, Guest!\n"
     ]
    }
   ],
   "source": [
    "def greet(name=\"Guest\"):\n",
    "    print(f\"Hello, {name}!\")\n",
    "\n",
    "greet(\"Alice\")\n",
    "greet()  # uses default\n"
   ]
  },
  {
   "cell_type": "markdown",
   "id": "e0364367-7fd0-46f5-9905-c4602ed22ade",
   "metadata": {},
   "source": [
    "#### Function With Variable Number of Arguments"
   ]
  },
  {
   "cell_type": "code",
   "execution_count": 149,
   "id": "0903c881-5890-4d29-8129-210f1e1806be",
   "metadata": {},
   "outputs": [],
   "source": [
    "def print_numbers(*args):\n",
    "    sum=0\n",
    "    for num in args:\n",
    "        sum+=num\n",
    "    return sum"
   ]
  },
  {
   "cell_type": "code",
   "execution_count": 150,
   "id": "611f6d95-355d-42d7-bef1-0b727a664e1a",
   "metadata": {},
   "outputs": [
    {
     "name": "stdout",
     "output_type": "stream",
     "text": [
      "10\n"
     ]
    }
   ],
   "source": [
    "print(print_numbers(1, 2, 3, 4))"
   ]
  },
  {
   "cell_type": "code",
   "execution_count": 151,
   "id": "580e5a32-94ad-4154-9b58-d36efe2a0b02",
   "metadata": {},
   "outputs": [],
   "source": [
    "def factorial(*args):\n",
    "    fact=1\n",
    "    for i in args:\n",
    "        fact*=i\n",
    "    return fact"
   ]
  },
  {
   "cell_type": "code",
   "execution_count": 152,
   "id": "5793162c-6521-49e8-bb36-fabb5cb0fd9b",
   "metadata": {},
   "outputs": [
    {
     "name": "stdout",
     "output_type": "stream",
     "text": [
      "120\n"
     ]
    }
   ],
   "source": [
    "print(factorial(1,2,3,4,5))"
   ]
  },
  {
   "cell_type": "markdown",
   "id": "9ce2e1c1-c3da-4d97-b07c-c588b5be4a5d",
   "metadata": {},
   "source": [
    "#### Keyword Arguments (**kwargs)"
   ]
  },
  {
   "cell_type": "code",
   "execution_count": 153,
   "id": "a00cc662-9312-48e0-be7a-fcd9eb4f0ddd",
   "metadata": {},
   "outputs": [
    {
     "name": "stdout",
     "output_type": "stream",
     "text": [
      "name: Alice\n",
      "age: 30\n"
     ]
    }
   ],
   "source": [
    "def display_info(**kwargs):\n",
    "    for key, value in kwargs.items():\n",
    "        print(f\"{key}: {value}\")\n",
    "\n",
    "display_info(name=\"Alice\", age=30)\n"
   ]
  },
  {
   "cell_type": "markdown",
   "id": "169869fc-a34e-4957-85c2-d8686eb067c9",
   "metadata": {},
   "source": [
    "#### Lambda Function in Python"
   ]
  },
  {
   "cell_type": "markdown",
   "id": "4072eb2d-1402-4f57-832f-3243ab117314",
   "metadata": {},
   "source": [
    "##### A lambda function is a small, anonymous function in Python. It's often used for short, throwaway functions where defining a full def block would be overkill."
   ]
  },
  {
   "cell_type": "code",
   "execution_count": 154,
   "id": "f0fd291b-d0d3-4a4b-bcc1-8e76cd423270",
   "metadata": {},
   "outputs": [
    {
     "data": {
      "text/plain": [
       "<function __main__.<lambda>(arguments)>"
      ]
     },
     "execution_count": 154,
     "metadata": {},
     "output_type": "execute_result"
    }
   ],
   "source": [
    "lambda arguments: expression # we can pass n number of argument but only one expression is passed at a time"
   ]
  },
  {
   "cell_type": "code",
   "execution_count": 155,
   "id": "141869f6-77a3-4ad1-9139-06afade4a0b6",
   "metadata": {},
   "outputs": [
    {
     "name": "stdout",
     "output_type": "stream",
     "text": [
      "25\n"
     ]
    }
   ],
   "source": [
    "square=lambda x:x*x\n",
    "print(square(5))"
   ]
  },
  {
   "cell_type": "code",
   "execution_count": 156,
   "id": "69d14b3a-f9d8-45e5-87a6-31c0a37bd556",
   "metadata": {},
   "outputs": [
    {
     "name": "stdout",
     "output_type": "stream",
     "text": [
      "7\n"
     ]
    }
   ],
   "source": [
    "add = lambda a, b: a + b\n",
    "print(add(3, 4))"
   ]
  },
  {
   "cell_type": "code",
   "execution_count": 157,
   "id": "0bf264ba-8db2-417a-9ece-4c4c86449e54",
   "metadata": {},
   "outputs": [
    {
     "name": "stdout",
     "output_type": "stream",
     "text": [
      "[1, 4, 9, 16, 25, 36, 49, 64, 81, 100]\n"
     ]
    }
   ],
   "source": [
    "number=[1,2,3,4,5,6,7,8,9,10]\n",
    "square=list(map(lambda x:x**2,number))\n",
    "print(square)"
   ]
  },
  {
   "cell_type": "code",
   "execution_count": 158,
   "id": "922a48d5-f29a-444f-8433-bb390ca922c6",
   "metadata": {},
   "outputs": [
    {
     "name": "stdout",
     "output_type": "stream",
     "text": [
      "[2, 4, 6, 8, 10]\n"
     ]
    }
   ],
   "source": [
    "evennumber=list(filter(lambda x:x%2==0,number))\n",
    "print(evennumber)"
   ]
  },
  {
   "cell_type": "code",
   "execution_count": 4,
   "id": "6bbefb9b-487d-46d0-88f6-4b580d68ef6e",
   "metadata": {},
   "outputs": [
    {
     "name": "stdout",
     "output_type": "stream",
     "text": [
      "24\n"
     ]
    }
   ],
   "source": [
    "c=[1,2,3,4]\n",
    "from functools import reduce\n",
    "r=reduce(lambda x,y:x*y,c)\n",
    "print(r)"
   ]
  },
  {
   "cell_type": "markdown",
   "id": "6d998f11-b5ef-436b-8b10-0050af688963",
   "metadata": {},
   "source": [
    "#### List Comprehension in Python"
   ]
  },
  {
   "cell_type": "markdown",
   "id": "f59c44fd-acc2-4f13-ad19-b296baab8e19",
   "metadata": {},
   "source": [
    "##### List comprehension is a concise way to create lists in Python using a single line of code. It’s more readable and compact compared to using traditional for loops."
   ]
  },
  {
   "cell_type": "code",
   "execution_count": 159,
   "id": "3678df0d-83de-4e74-baf4-fe5ed5fbd603",
   "metadata": {},
   "outputs": [],
   "source": [
    "#[expression for item in iterable] syntax"
   ]
  },
  {
   "cell_type": "code",
   "execution_count": 160,
   "id": "3bf00d1b-11a3-40e0-8ee3-c541470cd32c",
   "metadata": {},
   "outputs": [
    {
     "name": "stdout",
     "output_type": "stream",
     "text": [
      "[0, 2, 4, 6, 8]\n"
     ]
    }
   ],
   "source": [
    "even=[i for i in range(10) if i%2==0]\n",
    "print(even)"
   ]
  },
  {
   "cell_type": "markdown",
   "id": "b9a0f4f5-3d67-497d-bb9a-1268e4d851ed",
   "metadata": {},
   "source": [
    "#### Recursion in Python"
   ]
  },
  {
   "cell_type": "markdown",
   "id": "3144e80c-c96b-46b9-aa16-6ba69a743e03",
   "metadata": {},
   "source": [
    "##### Recursion is a programming technique where a function calls itself to solve smaller instances of a problem until it reaches a base case."
   ]
  },
  {
   "cell_type": "code",
   "execution_count": 161,
   "id": "895ad5c5-6076-40d9-80a3-6fe235346dfa",
   "metadata": {},
   "outputs": [],
   "source": [
    "def recursive_function(parameters):\n",
    "    if base_case_condition:\n",
    "        return result\n",
    "    else:\n",
    "        return recursive_function(modified_parameters) # syntax\n"
   ]
  },
  {
   "cell_type": "code",
   "execution_count": 162,
   "id": "34e5bd26-436e-4d71-8d7e-56fa1312e409",
   "metadata": {},
   "outputs": [],
   "source": [
    "def number(a):\n",
    "    if a==0:\n",
    "        return 1\n",
    "    else:\n",
    "        return a+number(a-1)"
   ]
  },
  {
   "cell_type": "code",
   "execution_count": 163,
   "id": "6dd12a74-9df8-4424-9e09-17efc3035ce4",
   "metadata": {},
   "outputs": [
    {
     "data": {
      "text/plain": [
       "16"
      ]
     },
     "execution_count": 163,
     "metadata": {},
     "output_type": "execute_result"
    }
   ],
   "source": [
    "number(5)"
   ]
  },
  {
   "cell_type": "code",
   "execution_count": 164,
   "id": "cbdade46-181a-4658-b78f-069188f8120e",
   "metadata": {},
   "outputs": [
    {
     "name": "stdout",
     "output_type": "stream",
     "text": [
      "120\n"
     ]
    }
   ],
   "source": [
    "\n",
    "def factorial(n):\n",
    "    if n == 0 or n == 1:  # Base case\n",
    "        return 1\n",
    "    else:\n",
    "        return n * factorial(n - 1)  # Recursive case\n",
    "\n",
    "print(factorial(5))  # Output: 120\n"
   ]
  },
  {
   "cell_type": "code",
   "execution_count": 172,
   "id": "dffc1c14-b8d2-4962-9624-4587a28df0e6",
   "metadata": {},
   "outputs": [],
   "source": [
    "def print_numbers(n):\n",
    "    if n==0:\n",
    "        return \n",
    "    print_numbers(n-1)\n",
    "    print(n,end=\" \")"
   ]
  },
  {
   "cell_type": "code",
   "execution_count": 173,
   "id": "08c7e406-c9bf-4a03-b4d7-babd62a58ee6",
   "metadata": {},
   "outputs": [
    {
     "name": "stdout",
     "output_type": "stream",
     "text": [
      "1 2 3 4 5 None\n"
     ]
    }
   ],
   "source": [
    "print(fact(5))"
   ]
  },
  {
   "cell_type": "code",
   "execution_count": 171,
   "id": "e7bc368b-4ff6-4032-885a-790b3bde03be",
   "metadata": {},
   "outputs": [
    {
     "name": "stdout",
     "output_type": "stream",
     "text": [
      "1 2 3 4 5 "
     ]
    }
   ],
   "source": [
    "def print_numbers(n):\n",
    "    if n == 0:\n",
    "        return\n",
    "    print_numbers(n - 1)\n",
    "    print(n, end=\" \")\n",
    "    \n",
    "print_numbers(5)\n",
    "# Output: 1 2 3 4 5\n"
   ]
  },
  {
   "cell_type": "markdown",
   "id": "377df0cb-fe45-4b33-b432-94a340935271",
   "metadata": {},
   "source": [
    "### OOP"
   ]
  },
  {
   "cell_type": "markdown",
   "id": "8df1d396-1963-4115-955f-c22e781c1e1d",
   "metadata": {},
   "source": [
    "##### Object-Oriented Programming (OOP) is a programming paradigm based on the concept of “objects”, which can contain data (attributes) and code (methods)."
   ]
  },
  {
   "cell_type": "markdown",
   "id": "c33928a7-b85a-4a87-805e-347171566ae7",
   "metadata": {},
   "source": [
    "### Class\n",
    "##### A blueprint for creating objects.\n",
    "##### Defines attributes and methods.\n"
   ]
  },
  {
   "cell_type": "code",
   "execution_count": 6,
   "id": "8aa95b98-2b5c-427e-9b45-1b2b90e5329a",
   "metadata": {},
   "outputs": [],
   "source": [
    "# sytax\n",
    "class Car:\n",
    "    def __init__(self, brand, color):\n",
    "        self.brand = brand\n",
    "        self.color = color\n",
    "\n",
    "    def drive(self):\n",
    "        print(f\"{self.color} {self.brand} is driving\")\n"
   ]
  },
  {
   "cell_type": "markdown",
   "id": "8771ab6c-820a-433d-98f4-927bf4242534",
   "metadata": {},
   "source": [
    "###  Object"
   ]
  },
  {
   "cell_type": "markdown",
   "id": "f80b1ced-13c0-47a7-9270-1ababad0d8d1",
   "metadata": {},
   "source": [
    "#### An instance of a class."
   ]
  },
  {
   "cell_type": "code",
   "execution_count": 7,
   "id": "1360a301-c8ba-47a4-a589-403c5bb0c8c2",
   "metadata": {},
   "outputs": [
    {
     "name": "stdout",
     "output_type": "stream",
     "text": [
      "Red Toyota is driving\n"
     ]
    }
   ],
   "source": [
    "my_car = Car(\"Toyota\", \"Red\")\n",
    "my_car.drive()  # Output: Red Toyota is driving\n"
   ]
  },
  {
   "cell_type": "markdown",
   "id": "79301f41-8c29-4ae1-93ec-266eea11390e",
   "metadata": {},
   "source": [
    "### Inheritance\n",
    "#### Inheritance is the process by which one class (child or derived class) inherits the properties (variables) and behaviors (methods) from another class (parent or base class)."
   ]
  },
  {
   "cell_type": "code",
   "execution_count": 8,
   "id": "559ad71b-1fde-499b-ab31-aead82293d3d",
   "metadata": {},
   "outputs": [],
   "source": [
    "# Code reusability – common code in parent class can be reused.\n",
    "#Extendability – child class can extend or modify parent behavior."
   ]
  },
  {
   "cell_type": "code",
   "execution_count": 9,
   "id": "deaf8fee-caa2-4d1a-b204-de4c654f60cd",
   "metadata": {},
   "outputs": [],
   "source": [
    "class Parent:\n",
    "    # parent class\n",
    "    pass\n",
    "\n",
    "class Child(Parent):\n",
    "    # child class inherits from Parent\n",
    "    pass\n"
   ]
  },
  {
   "cell_type": "markdown",
   "id": "419c9d16-8abc-4a20-be17-cb8a892b04ec",
   "metadata": {},
   "source": [
    "#### Single Inheritance1"
   ]
  },
  {
   "cell_type": "code",
   "execution_count": 11,
   "id": "afa73dc6-9fc7-4f63-a1fc-6298ccd29ced",
   "metadata": {},
   "outputs": [
    {
     "name": "stdout",
     "output_type": "stream",
     "text": [
      "Animal is eating\n",
      "Dog is barking\n"
     ]
    }
   ],
   "source": [
    "class Animal:\n",
    "    def eat(self):\n",
    "        print(\"Animal is eating\")\n",
    "\n",
    "class Dog(Animal):\n",
    "    def bark(self):\n",
    "        print(\"Dog is barking\")\n",
    "\n",
    "d = Dog()\n",
    "d.eat()   # Inherited from Animal\n",
    "d.bark()  # Defined in Dog"
   ]
  },
  {
   "cell_type": "markdown",
   "id": "542ddf99-d8e9-451f-b785-712069c9504b",
   "metadata": {},
   "source": [
    "#### Multiple Inheritance"
   ]
  },
  {
   "cell_type": "code",
   "execution_count": 12,
   "id": "7ac2b85e-2fb0-4ff0-8c0f-a5b9d97d08b7",
   "metadata": {},
   "outputs": [
    {
     "name": "stdout",
     "output_type": "stream",
     "text": [
      "Father: Gardening, Driving\n"
     ]
    }
   ],
   "source": [
    "class Father:\n",
    "    def skills(self):\n",
    "        print(\"Father: Gardening, Driving\")\n",
    "\n",
    "class Mother:\n",
    "    def skills(self):\n",
    "        print(\"Mother: Cooking, Art\")\n",
    "\n",
    "class Child(Father, Mother):\n",
    "    pass\n",
    "\n",
    "c = Child()\n",
    "c.skills()  # Output: Father’s skills due to MRO (Method Resolution Order)\n"
   ]
  },
  {
   "cell_type": "markdown",
   "id": "50c92978-9892-4981-96d6-6dfb50e00357",
   "metadata": {},
   "source": [
    "#### Multilevel Inheritance"
   ]
  },
  {
   "cell_type": "code",
   "execution_count": 13,
   "id": "f6cba906-b376-4df1-8811-774f18d33f60",
   "metadata": {},
   "outputs": [
    {
     "name": "stdout",
     "output_type": "stream",
     "text": [
      "Grandparent: Owns a house\n",
      "Parent: Owns a car\n",
      "Child: Owns a bike\n"
     ]
    }
   ],
   "source": [
    "class Grandparent:\n",
    "    def house(self):\n",
    "        print(\"Grandparent: Owns a house\")\n",
    "\n",
    "class Parent(Grandparent):\n",
    "    def car(self):\n",
    "        print(\"Parent: Owns a car\")\n",
    "\n",
    "class Child(Parent):\n",
    "    def bike(self):\n",
    "        print(\"Child: Owns a bike\")\n",
    "\n",
    "c = Child()\n",
    "c.house()\n",
    "c.car()\n",
    "c.bike()\n"
   ]
  },
  {
   "cell_type": "markdown",
   "id": "4cf87b48-d32a-41a3-b8bd-dbe8f7184df8",
   "metadata": {},
   "source": [
    "#### Encapsulation"
   ]
  },
  {
   "cell_type": "markdown",
   "id": "020ea924-8698-41fd-9c7d-a3b426a44728",
   "metadata": {},
   "source": [
    "##### Encapsulation is the process of binding data (attributes) and methods (functions) together in a class and restricting direct access to some of the object's components.\n",
    "##### It helps in data hiding and protection from unwanted access or modification."
   ]
  },
  {
   "cell_type": "code",
   "execution_count": 14,
   "id": "07551ad3-4f1f-4ef3-94d4-6aef235a973c",
   "metadata": {},
   "outputs": [],
   "source": [
    "#Think of a capsule — it contains medicine inside a shell. You can't directly access the medicine; you consume it as designed.\n",
    "#Similarly, in programming:\n",
    "#Attributes (data) are private\n",
    "#Access/modification is done via methods (getters/setters)"
   ]
  },
  {
   "cell_type": "code",
   "execution_count": 15,
   "id": "bc861722-0790-418f-b1d3-335642503fea",
   "metadata": {},
   "outputs": [
    {
     "name": "stdout",
     "output_type": "stream",
     "text": [
      "25\n",
      "30\n",
      "Invalid age\n"
     ]
    }
   ],
   "source": [
    "class Person:\n",
    "    def __init__(self):\n",
    "        self.__name = \"Tejas\"     # Private\n",
    "        self.__age = 25           # Private\n",
    "\n",
    "    # Getter method\n",
    "    def get_age(self):\n",
    "        return self.__age\n",
    "\n",
    "    # Setter method with validation\n",
    "    def set_age(self, value):\n",
    "        if 0 < value < 120:\n",
    "            self.__age = value\n",
    "        else:\n",
    "            print(\"Invalid age\")\n",
    "\n",
    "p = Person()\n",
    "print(p.get_age())        # Access via getter\n",
    "p.set_age(30)             # Update via setter\n",
    "print(p.get_age())\n",
    "p.set_age(200)            # Invalid update\n"
   ]
  },
  {
   "cell_type": "markdown",
   "id": "3b7eb64c-c6a3-4031-afde-acb53521a623",
   "metadata": {},
   "source": [
    "#### Polymorphism"
   ]
  },
  {
   "cell_type": "markdown",
   "id": "a4ae7ddd-fd02-4f5f-9cb9-a138d5e10341",
   "metadata": {},
   "source": [
    "##### It allows the same interface (method name) to behave differently depending on the object that calls it."
   ]
  },
  {
   "cell_type": "markdown",
   "id": "62d1ed07-59f7-4c57-9629-0a005b5458d3",
   "metadata": {},
   "source": [
    "##### Method Overriding\n",
    "###### Subclass provides a specific implementation of a method already defined in its superclass."
   ]
  },
  {
   "cell_type": "code",
   "execution_count": 16,
   "id": "670b1922-bb38-4432-bb92-842421462d2f",
   "metadata": {},
   "outputs": [
    {
     "name": "stdout",
     "output_type": "stream",
     "text": [
      "Animal speaks\n",
      "Dog barks\n",
      "Cat meows\n"
     ]
    }
   ],
   "source": [
    "class Animal:\n",
    "    def speak(self):\n",
    "        print(\"Animal speaks\")\n",
    "\n",
    "class Dog(Animal):\n",
    "    def speak(self):\n",
    "        print(\"Dog barks\")\n",
    "\n",
    "class Cat(Animal):\n",
    "    def speak(self):\n",
    "        print(\"Cat meows\")\n",
    "\n",
    "# Polymorphic behavior\n",
    "def make_animal_speak(animal):\n",
    "    animal.speak()\n",
    "\n",
    "a = Animal()\n",
    "d = Dog()\n",
    "c = Cat()\n",
    "\n",
    "make_animal_speak(a)  # Animal speaks\n",
    "make_animal_speak(d)  # Dog barks\n",
    "make_animal_speak(c)  # Cat meows\n"
   ]
  },
  {
   "cell_type": "markdown",
   "id": "9f6a2758-13a5-40d6-bfc8-cd74d30b3be5",
   "metadata": {},
   "source": [
    "##### Method Overloading"
   ]
  },
  {
   "cell_type": "markdown",
   "id": "c3a630ac-d5e6-42ee-ae8b-b4ce0c39738d",
   "metadata": {},
   "source": [
    "##### Python doesn't support method overloading like Java/C++ (multiple methods with same name but different parameters), but you can simulate it:"
   ]
  },
  {
   "cell_type": "code",
   "execution_count": 17,
   "id": "8918f184-5b13-428a-b443-db19d018f80a",
   "metadata": {},
   "outputs": [
    {
     "name": "stdout",
     "output_type": "stream",
     "text": [
      "Hello\n",
      "Hello Tejas\n"
     ]
    }
   ],
   "source": [
    "class Greet:\n",
    "    def hello(self, name=None):\n",
    "        if name:\n",
    "            print(\"Hello \" + name)\n",
    "        else:\n",
    "            print(\"Hello\")\n",
    "\n",
    "g = Greet()\n",
    "g.hello()        # Hello\n",
    "g.hello(\"Tejas\") # Hello Tejas\n"
   ]
  },
  {
   "cell_type": "markdown",
   "id": "b9af24f6-02c2-4400-922d-8875a42697a0",
   "metadata": {},
   "source": [
    "#### Abstraction "
   ]
  },
  {
   "cell_type": "markdown",
   "id": "b72f1999-e853-4133-ac74-f43f0daed1ed",
   "metadata": {},
   "source": [
    "##### Abstraction means hiding internal details and showing only the essential features of an object."
   ]
  },
  {
   "cell_type": "code",
   "execution_count": 19,
   "id": "632cab50-1fbf-4b16-8c1f-b7aa2606a4ac",
   "metadata": {},
   "outputs": [
    {
     "name": "stdout",
     "output_type": "stream",
     "text": [
      "Car started with key\n",
      "Fuel is full\n",
      "Bike started with button\n"
     ]
    }
   ],
   "source": [
    "from abc import ABC, abstractmethod\n",
    "\n",
    "class Vehicle(ABC):  # Abstract class\n",
    "    @abstractmethod\n",
    "    def start(self):\n",
    "        pass\n",
    "\n",
    "    def fuel(self):\n",
    "        print(\"Fuel is full\")\n",
    "\n",
    "class Car(Vehicle):\n",
    "    def start(self):\n",
    "        print(\"Car started with key\")\n",
    "\n",
    "class Bike(Vehicle):\n",
    "    def start(self):\n",
    "        print(\"Bike started with button\")\n",
    "\n",
    "c = Car()\n",
    "c.start()    # Car started with key\n",
    "c.fuel()     # Fuel is full\n",
    "\n",
    "b = Bike()\n",
    "b.start()    # Bike started with button\n"
   ]
  },
  {
   "cell_type": "markdown",
   "id": "143efe9b-87c8-4547-8f52-bd9a0872eaba",
   "metadata": {},
   "source": [
    "#### Method"
   ]
  },
  {
   "cell_type": "markdown",
   "id": "0e6211ff-fb6b-407f-879b-4e0db7670db8",
   "metadata": {},
   "source": [
    "##### a method is a function that is associated with an object — usually with a class or instance of a class."
   ]
  },
  {
   "cell_type": "markdown",
   "id": "ea5f0a6a-88b9-43cb-9438-c462aab701fe",
   "metadata": {},
   "source": [
    "##### Instance Method"
   ]
  },
  {
   "cell_type": "code",
   "execution_count": 1,
   "id": "af5eecbf-f0e8-4c25-8519-822684bdff5b",
   "metadata": {},
   "outputs": [],
   "source": [
    "# The most common type.\n",
    "#Works with an instance of the class (self).\n",
    "#Can access and modify object state."
   ]
  },
  {
   "cell_type": "code",
   "execution_count": 2,
   "id": "69c05d1e-7430-48ed-961c-2b3644b3e188",
   "metadata": {},
   "outputs": [
    {
     "name": "stdout",
     "output_type": "stream",
     "text": [
      "The car brand is Toyota\n"
     ]
    }
   ],
   "source": [
    "class Car:\n",
    "    def __init__(self, brand):\n",
    "        self.brand = brand\n",
    "\n",
    "    def show_brand(self):\n",
    "        return f\"The car brand is {self.brand}\"\n",
    "\n",
    "c = Car(\"Toyota\")\n",
    "print(c.show_brand())  # Output: The car brand is Toyota\n"
   ]
  },
  {
   "cell_type": "markdown",
   "id": "d153d51a-4d26-4cfe-b724-52d33f95ec99",
   "metadata": {},
   "source": [
    "#### Class Method"
   ]
  },
  {
   "cell_type": "code",
   "execution_count": null,
   "id": "abfdbd16-87ec-41f3-b7d2-29ed5eb7be75",
   "metadata": {},
   "outputs": [],
   "source": [
    "#Uses @classmethod decorator.\n",
    "#Works with the class, not an instance (cls).\n",
    "#Used for factory methods or modifying class-level data."
   ]
  },
  {
   "cell_type": "code",
   "execution_count": 3,
   "id": "3b9b8a09-d38f-4791-aa49-f1429e32bbe6",
   "metadata": {},
   "outputs": [
    {
     "name": "stdout",
     "output_type": "stream",
     "text": [
      "2\n"
     ]
    }
   ],
   "source": [
    "class Dog:\n",
    "    count = 0\n",
    "\n",
    "    def __init__(self):\n",
    "        Dog.count += 1\n",
    "\n",
    "    @classmethod\n",
    "    def get_count(cls):\n",
    "        return cls.count\n",
    "\n",
    "d1 = Dog()\n",
    "d2 = Dog()\n",
    "print(Dog.get_count())  # Output: 2\n"
   ]
  },
  {
   "cell_type": "markdown",
   "id": "759ab24e-88ad-4fe9-ae5a-ea96f41c1eb5",
   "metadata": {},
   "source": [
    "#### Decorator"
   ]
  },
  {
   "cell_type": "markdown",
   "id": "cf4ac495-c115-4946-9e77-ce9ff8c82ce4",
   "metadata": {},
   "source": [
    "##### A decorator in Python is a powerful tool used to modify or enhance the behavior of a function, method, or class — without changing its actual code."
   ]
  },
  {
   "cell_type": "code",
   "execution_count": 5,
   "id": "e42be703-fb49-4e3b-b47c-b51747c4e3df",
   "metadata": {},
   "outputs": [
    {
     "name": "stdout",
     "output_type": "stream",
     "text": [
      "good morning\n",
      "Hello world\n",
      "thank for using this function\n"
     ]
    }
   ],
   "source": [
    "def greet(fx):\n",
    "    def mfx():\n",
    "        print('good morning')\n",
    "        fx()\n",
    "        print('thank for using this function')\n",
    "    return mfx\n",
    "@greet\n",
    "def hello():\n",
    "    print('Hello world')\n",
    "hello()"
   ]
  },
  {
   "cell_type": "code",
   "execution_count": 8,
   "id": "4e221718-8524-41c1-a6f1-669fc542c5fb",
   "metadata": {},
   "outputs": [
    {
     "name": "stdout",
     "output_type": "stream",
     "text": [
      "Hello pune\n",
      "6\n",
      "Hello pune\n",
      "24\n"
     ]
    }
   ],
   "source": [
    "def decorat(fa):\n",
    "    def mki(*args,**kwargs):\n",
    "        print('Hello pune')\n",
    "        fa(*args,**kwargs)\n",
    "    return mki\n",
    "@decorat\n",
    "def add(a,b,c):\n",
    "    print(a+b+c)\n",
    "@decorat\n",
    "def multiplication(a,b,c,d):\n",
    "    print(a*b*c*d)\n",
    "add(1,2,3)\n",
    "multiplication(1,2,3,4)"
   ]
  },
  {
   "cell_type": "code",
   "execution_count": 11,
   "id": "cbe88452-a17e-4832-9270-d47c03948d95",
   "metadata": {},
   "outputs": [
    {
     "name": "stdout",
     "output_type": "stream",
     "text": [
      "2\n",
      "4\n",
      "6\n"
     ]
    }
   ],
   "source": [
    "def fy(ui):\n",
    "    def op(*args,**kargs):\n",
    "        ui(*args,**kargs)\n",
    "    return op\n",
    "@fy\n",
    "def even(*args):\n",
    "    for i in (args):\n",
    "        if i%2==0:\n",
    "            print(i)\n",
    "even(1,2,3,4,5,6)"
   ]
  },
  {
   "cell_type": "code",
   "execution_count": 1,
   "id": "acda462c-87ea-49b4-b5d0-e54f17604817",
   "metadata": {},
   "outputs": [],
   "source": [
    "def der(fx):\n",
    "    def op(*args,**kwargs):\n",
    "        ui(*args,**kwargs)\n",
    "    return fx\n",
    "@der\n",
    "def add(*args):\n",
    "    c=0\n",
    "    for i in args:\n",
    "        c+=i\n",
    "    return c    "
   ]
  },
  {
   "cell_type": "code",
   "execution_count": 2,
   "id": "a17e5681-a317-46fe-ab9d-a2ec12e9589e",
   "metadata": {},
   "outputs": [
    {
     "data": {
      "text/plain": [
       "36"
      ]
     },
     "execution_count": 2,
     "metadata": {},
     "output_type": "execute_result"
    }
   ],
   "source": [
    "add(1,2,3,4,5,6,7,8)"
   ]
  },
  {
   "cell_type": "code",
   "execution_count": 7,
   "id": "e996bcd2-7ded-4406-8cf8-dff5fb0f1e11",
   "metadata": {},
   "outputs": [],
   "source": [
    "class oi:\n",
    "    comp='Jio'\n",
    "    def __init__(self,name,age):\n",
    "        self.name=name\n",
    "        self.age=age\n",
    "    def show(self):\n",
    "        return (f\"My name is {self.name} and my current commpany is {self.comp} age is {self.age}\")\n",
    "    @classmethod\n",
    "    def change(cls,newcomp):\n",
    "        cls.comp=newcomp"
   ]
  },
  {
   "cell_type": "code",
   "execution_count": 8,
   "id": "8c057513-0bc7-4b29-bed8-2dd1a8589807",
   "metadata": {},
   "outputs": [
    {
     "data": {
      "text/plain": [
       "'My name is Tejas and my current commpany is Tata age is 28'"
      ]
     },
     "execution_count": 8,
     "metadata": {},
     "output_type": "execute_result"
    }
   ],
   "source": [
    "e1=oi('Tejas',28)\n",
    "e1.show()\n",
    "oi.change('Tata')\n",
    "e1.show()"
   ]
  },
  {
   "cell_type": "markdown",
   "id": "3402db06-76c0-441d-85c9-a1915cd1f2b3",
   "metadata": {},
   "source": [
    "#### static method"
   ]
  },
  {
   "cell_type": "markdown",
   "id": "823236f3-e6c0-4a63-83bb-15ddfaef5657",
   "metadata": {},
   "source": [
    "##### a static method is a method that belongs to a class rather than an instance of the class. It does not take self or cls as the first parameter, meaning it cannot access or modify class or instance state. It behaves like a regular function but belongs to the class's namespace."
   ]
  },
  {
   "cell_type": "code",
   "execution_count": 9,
   "id": "bcadc4c4-92f0-478c-b71f-f81c932b2357",
   "metadata": {},
   "outputs": [],
   "source": [
    "class sts:\n",
    "    @staticmethod\n",
    "    def add(x,y):\n",
    "        return (x+y)"
   ]
  },
  {
   "cell_type": "code",
   "execution_count": 10,
   "id": "e4ccadc0-9b49-4b24-b242-7d5545ac8534",
   "metadata": {},
   "outputs": [
    {
     "data": {
      "text/plain": [
       "17"
      ]
     },
     "execution_count": 10,
     "metadata": {},
     "output_type": "execute_result"
    }
   ],
   "source": [
    "sts.add(8,9)"
   ]
  },
  {
   "cell_type": "code",
   "execution_count": 11,
   "id": "c12dc0f9-6e8b-4839-92ab-4bd492d13a33",
   "metadata": {},
   "outputs": [
    {
     "name": "stdout",
     "output_type": "stream",
     "text": [
      "32.0\n"
     ]
    }
   ],
   "source": [
    "class TemperatureConverter:\n",
    "    @staticmethod\n",
    "    def celsius_to_fahrenheit(celsius):\n",
    "        return (celsius * 9/5) + 32\n",
    "\n",
    "print(TemperatureConverter.celsius_to_fahrenheit(0)) "
   ]
  },
  {
   "cell_type": "code",
   "execution_count": null,
   "id": "7bf0c79a-ea8d-46af-b43f-b6f685d0ef18",
   "metadata": {},
   "outputs": [],
   "source": [
    "def three_sum_zero(num):\n",
    "    n=len(num)\n",
    "    result=[]\n",
    "    for i in range(n):\n",
    "        for j in range(i+1,n):\n",
    "            for o in range(j+1,n):\n",
    "                if num[i]+num[j]+num[o]==0:\n",
    "                    triplet=sorted([num[i],num[j],num[o]])\n",
    "                if triplet not in result:\n",
    "                    result.append(triplet)\n",
    "    return result\n",
    "    "
   ]
  },
  {
   "cell_type": "code",
   "execution_count": 184,
   "id": "a6cbae9b-8f08-4205-a463-aec9d935335d",
   "metadata": {},
   "outputs": [
    {
     "name": "stdout",
     "output_type": "stream",
     "text": [
      "[[-1, 0, 1], [-1, -1, 2]]\n"
     ]
    }
   ],
   "source": [
    "nums = [-1, 0, 1, 2, -1, -4]\n",
    "print(three_sum_zero(nums))"
   ]
  },
  {
   "cell_type": "code",
   "execution_count": 192,
   "id": "ca70ba0a-5c6a-4936-9ea8-aa36bf8897fc",
   "metadata": {},
   "outputs": [],
   "source": [
    "def find_length(name):\n",
    "    z=[]\n",
    "    for i in name:\n",
    "        if i not in z:\n",
    "            z.append(i)\n",
    "            u=len(z)\n",
    "    return u"
   ]
  },
  {
   "cell_type": "code",
   "execution_count": 196,
   "id": "543602d2-77b3-4ef4-98ca-f65529e26599",
   "metadata": {},
   "outputs": [
    {
     "name": "stdout",
     "output_type": "stream",
     "text": [
      "1\n"
     ]
    }
   ],
   "source": [
    "print(find_length('aaaaa'))"
   ]
  },
  {
   "cell_type": "code",
   "execution_count": 212,
   "id": "69d47526-1ccb-4ca8-8bc9-12f3084bda25",
   "metadata": {},
   "outputs": [],
   "source": [
    "def count(n):\n",
    "    f={}\n",
    "    for i in range(len(n)):\n",
    "        if n[i] in f:\n",
    "            return 0\n",
    "        else:\n",
    "            f[n[i]]=1\n",
    "    return 1"
   ]
  },
  {
   "cell_type": "code",
   "execution_count": 213,
   "id": "6a6acaf0-4f3c-4386-b15e-74578dd4ba33",
   "metadata": {},
   "outputs": [
    {
     "name": "stdout",
     "output_type": "stream",
     "text": [
      "1\n"
     ]
    }
   ],
   "source": [
    "print(count('tejas'))"
   ]
  },
  {
   "cell_type": "code",
   "execution_count": 32,
   "id": "5dcfeb97-2492-4642-9171-831a2416916f",
   "metadata": {},
   "outputs": [],
   "source": [
    "# Given an array arr[] containing only non-negative integers, your task is to find a continuous subarray (a contiguous sequence of elements) whose sum equals a specified value target. You need to return the 1-based indices of the leftmost and rightmost elements of this subarray. You need to find the first subarray whose sum is equal to the target.\n",
    "#Note: If no such array is possible then, return [-1]."
   ]
  },
  {
   "cell_type": "code",
   "execution_count": 28,
   "id": "5463baa4-51f5-499d-a19a-d2632b296171",
   "metadata": {},
   "outputs": [],
   "source": [
    "def subarraySum(arr,target):\n",
    "    c=[]\n",
    "    id=0\n",
    "    for i in range(len(arr)):\n",
    "        val1=0\n",
    "        for j in range(i,len(arr)):\n",
    "            val1+=arr[j]\n",
    "            if val1==target:\n",
    "                return [i+1,j+1]\n",
    "            if val1>target:\n",
    "                break\n",
    "    return -1   "
   ]
  },
  {
   "cell_type": "code",
   "execution_count": 29,
   "id": "7ed077c1-60a8-4d6a-a9fd-6e78c3facb41",
   "metadata": {},
   "outputs": [
    {
     "name": "stdout",
     "output_type": "stream",
     "text": [
      "[2, 4]\n"
     ]
    }
   ],
   "source": [
    "u=[1, 2, 3, 7, 5]\n",
    "t=12\n",
    "print(subarraySum(u,t))"
   ]
  },
  {
   "cell_type": "code",
   "execution_count": 30,
   "id": "aeeab6a0-85a3-4e2c-87c2-bd1e592c20ba",
   "metadata": {},
   "outputs": [
    {
     "name": "stdout",
     "output_type": "stream",
     "text": [
      "[1, 5]\n"
     ]
    }
   ],
   "source": [
    "u=[1, 2, 3, 4, 5, 6, 7, 8, 9, 10]\n",
    "t=15\n",
    "print(subarraySum(u,t))"
   ]
  },
  {
   "cell_type": "code",
   "execution_count": 33,
   "id": "807cd3db-fe1f-404a-9fbe-2ae5cee7dbfa",
   "metadata": {},
   "outputs": [],
   "source": [
    "#You are given an array arr[] of size n - 1 that contains distinct integers in the range from 1 to n (inclusive). This array represents a permutation of the integers from 1 to n with one element missing. Your task is to identify and return the missing element."
   ]
  },
  {
   "cell_type": "code",
   "execution_count": 35,
   "id": "80fd792b-20b1-4d42-ada9-499d7c5a9cc9",
   "metadata": {},
   "outputs": [],
   "source": [
    "def missingNum(arr):\n",
    "    c=[]\n",
    "    for i in range(len(arr)):\n",
    "        if arr[i]==i+1:\n",
    "            continue\n",
    "        else:\n",
    "            c.append(i+1)\n",
    "    return c"
   ]
  },
  {
   "cell_type": "code",
   "execution_count": 37,
   "id": "41042d60-18b3-4a0a-ba76-c0220bc99837",
   "metadata": {},
   "outputs": [
    {
     "name": "stdout",
     "output_type": "stream",
     "text": [
      "[4]\n"
     ]
    }
   ],
   "source": [
    "arr=[1,2,3,5]\n",
    "print(missingNum(arr))"
   ]
  },
  {
   "cell_type": "code",
   "execution_count": 40,
   "id": "b2c0b5a9-010c-48f4-a220-8e75e301687d",
   "metadata": {},
   "outputs": [],
   "source": [
    "def Kadane(arr):\n",
    "    max_sum=0\n",
    "    total=0\n",
    "    for i in range(len(arr)):\n",
    "        total+=arr[i]\n",
    "        max_sum=max(total,max_sum)\n",
    "        if total<0:\n",
    "            total=0\n",
    "    return max_sum"
   ]
  },
  {
   "cell_type": "code",
   "execution_count": 41,
   "id": "80d90b96-4303-46d7-a6c3-9fd913630e04",
   "metadata": {},
   "outputs": [
    {
     "name": "stdout",
     "output_type": "stream",
     "text": [
      "11\n"
     ]
    }
   ],
   "source": [
    "arr=[2, 3, -8, 7, -1, 2, 3]\n",
    "print(Kadane(arr))"
   ]
  },
  {
   "cell_type": "code",
   "execution_count": 46,
   "id": "f4d83dee-84e1-4967-9116-dc6cefb664e3",
   "metadata": {},
   "outputs": [
    {
     "name": "stdout",
     "output_type": "stream",
     "text": [
      "25\n"
     ]
    }
   ],
   "source": [
    "c=0\n",
    "for i in range(len(arr)):\n",
    "    c+=arr[i]\n",
    "    if c<0:\n",
    "        c=0\n",
    "print(c)"
   ]
  },
  {
   "cell_type": "code",
   "execution_count": 45,
   "id": "4c51ef9f-4552-49fb-8647-f67c3c637645",
   "metadata": {},
   "outputs": [],
   "source": [
    "arr=[5, 4, 1, 7, 8]"
   ]
  },
  {
   "cell_type": "code",
   "execution_count": 48,
   "id": "55101044-347d-4f89-b276-9fe5ff3a643f",
   "metadata": {},
   "outputs": [],
   "source": [
    "arr = [16, 17, 4, 3, 5, 2]"
   ]
  },
  {
   "cell_type": "code",
   "execution_count": 55,
   "id": "172813af-999e-4881-a458-9a9574852f8e",
   "metadata": {},
   "outputs": [],
   "source": [
    "last=0\n",
    "arr.append(last)"
   ]
  },
  {
   "cell_type": "code",
   "execution_count": 56,
   "id": "69dd752c-1c22-4cea-bffd-acc3b564f549",
   "metadata": {},
   "outputs": [
    {
     "name": "stdout",
     "output_type": "stream",
     "text": [
      "[17, 5, inf]\n"
     ]
    }
   ],
   "source": [
    "m=[]\n",
    "for i in range(len(arr)):\n",
    "    val1=arr[i]\n",
    "    for j in range(i+1):\n",
    "        val2=arr[j]\n",
    "        if val1>val2:\n",
    "            m.append(val1)\n",
    "            break\n",
    "print(m)"
   ]
  },
  {
   "cell_type": "code",
   "execution_count": 70,
   "id": "4f53562a-77bc-43cf-8922-60ccdda746b6",
   "metadata": {},
   "outputs": [],
   "source": [
    "def dup(arr):\n",
    "    c={}\n",
    "    for i in arr:\n",
    "        if i in c:\n",
    "            c[i]+=1\n",
    "        else:\n",
    "            c[i]=1\n",
    "    m=[]\n",
    "    for key,value in c.items():\n",
    "        if value>1:\n",
    "            m.append(key)\n",
    "    return m"
   ]
  },
  {
   "cell_type": "code",
   "execution_count": 71,
   "id": "824a78de-f0c4-41db-80b5-2790fc019a00",
   "metadata": {},
   "outputs": [
    {
     "name": "stdout",
     "output_type": "stream",
     "text": [
      "[2, 3]\n"
     ]
    }
   ],
   "source": [
    "arr= [2, 3, 1, 2, 3]\n",
    "print(dup(arr))"
   ]
  },
  {
   "cell_type": "code",
   "execution_count": 20,
   "id": "abbe22e4-b735-40fe-84d2-2ce62decc224",
   "metadata": {},
   "outputs": [],
   "source": [
    "# You are given an array arr of positive integers. Your task is to find all the leaders in the array. An element is considered a leader if it is greater than or equal to all elements to its right. The rightmost element is always a leader."
   ]
  },
  {
   "cell_type": "code",
   "execution_count": 56,
   "id": "fc1eb060-5316-470a-91f1-40864e9abc15",
   "metadata": {},
   "outputs": [],
   "source": [
    "def checkvalue(arr):\n",
    "    arr.append(0)\n",
    "    n=len(arr)\n",
    "    c=[]\n",
    "    for i in range(n):\n",
    "        for j in range(i+1):\n",
    "            if arr[i]>arr[j]:\n",
    "                c.append(arr[i])\n",
    "    return c"
   ]
  },
  {
   "cell_type": "code",
   "execution_count": 57,
   "id": "b9ec046b-2d8c-44f3-a172-61edb79ac783",
   "metadata": {},
   "outputs": [
    {
     "name": "stdout",
     "output_type": "stream",
     "text": [
      "[17, 5, 5]\n"
     ]
    }
   ],
   "source": [
    "arr = [16, 17, 4, 3, 5, 2]\n",
    "print(checkvalue(arr))"
   ]
  },
  {
   "cell_type": "code",
   "execution_count": 43,
   "id": "fcadf9c0-9120-4cba-b5d7-90ff3df5383f",
   "metadata": {},
   "outputs": [],
   "source": [
    "def Gr(arr):\n",
    "    n=len(arr)\n",
    "    re=[]\n",
    "    max=arr[-1]\n",
    "    re.append(max)\n",
    "\n",
    "    for i in range(n-2,-1,-1):\n",
    "        if arr[i]>max:\n",
    "            max=arr[i]\n",
    "            re.append(max)\n",
    "        else: \n",
    "            continue\n",
    "    return re"
   ]
  },
  {
   "cell_type": "code",
   "execution_count": 44,
   "id": "df8f7399-069c-4e69-a97e-3b26c51ad7a2",
   "metadata": {},
   "outputs": [
    {
     "name": "stdout",
     "output_type": "stream",
     "text": [
      "[0, 2, 5, 17]\n"
     ]
    }
   ],
   "source": [
    "print(Gr(arr))"
   ]
  },
  {
   "cell_type": "code",
   "execution_count": 45,
   "id": "4b8e6437-11dd-4394-950c-72ac11101979",
   "metadata": {},
   "outputs": [],
   "source": [
    "def ui(arr):\n",
    "    n=len(arr)\n",
    "    ma=arr[-1]\n",
    "    re=[]\n",
    "    re.append(ma)\n",
    "    for i in range(n-2,-1,-1):\n",
    "        if arr[i]>ma:\n",
    "            ma=arr[i]\n",
    "            re.append(ma)\n",
    "        else:\n",
    "            continue\n",
    "    re.reverse()\n",
    "    return re"
   ]
  },
  {
   "cell_type": "code",
   "execution_count": 47,
   "id": "f80961ba-77ef-43f5-a407-e25f78d0508f",
   "metadata": {},
   "outputs": [
    {
     "name": "stdout",
     "output_type": "stream",
     "text": [
      "[18, 15]\n"
     ]
    }
   ],
   "source": [
    "arr=[1,5,6,18,14,2,6,4,15]\n",
    "print(ui(arr))"
   ]
  },
  {
   "cell_type": "code",
   "execution_count": 60,
   "id": "20ce86b7-8054-4a90-bcbe-1feb61883528",
   "metadata": {},
   "outputs": [],
   "source": [
    "def right(arr):\n",
    "    n=len(arr)\n",
    "    max=arr[-1]\n",
    "    k=[]\n",
    "    k.append(max)\n",
    "\n",
    "    for i in range(n-2,-1,-1):\n",
    "        if arr[i]>max:\n",
    "            max=arr[i]\n",
    "            k.append(max)\n",
    "        else:\n",
    "            continue\n",
    "    k.reverse()\n",
    "    return k"
   ]
  },
  {
   "cell_type": "code",
   "execution_count": 61,
   "id": "58ec088b-7415-4917-8cf1-8d3042df7f37",
   "metadata": {},
   "outputs": [
    {
     "name": "stdout",
     "output_type": "stream",
     "text": [
      "[40]\n"
     ]
    }
   ],
   "source": [
    "arr=[5, 10, 20, 40]\n",
    "print(right(arr))"
   ]
  },
  {
   "cell_type": "code",
   "execution_count": 62,
   "id": "ce3550ab-2865-40ba-88c6-eac47bc46cab",
   "metadata": {},
   "outputs": [],
   "source": [
    "# Given an array arr of integers, find all the elements that occur more than once in the array. If no element repeats, return an empty array."
   ]
  },
  {
   "cell_type": "code",
   "execution_count": 77,
   "id": "60a7244e-d2b9-4e5a-9798-b6a817a588c1",
   "metadata": {},
   "outputs": [],
   "source": [
    "def duplicate(arr):\n",
    "    d={}\n",
    "    c=[]\n",
    "    for i in range(len(arr)):\n",
    "        if arr[i] in d:\n",
    "            d[arr[i]]+=1\n",
    "        else:\n",
    "            d[arr[i]]=1\n",
    "    for key,value in d.items():\n",
    "        if value>1:\n",
    "            c.append(key)\n",
    "        else:\n",
    "            continue\n",
    "    return c"
   ]
  },
  {
   "cell_type": "code",
   "execution_count": 78,
   "id": "1ba186ed-707d-4a68-8f56-9a176bd19077",
   "metadata": {},
   "outputs": [
    {
     "name": "stdout",
     "output_type": "stream",
     "text": [
      "[2, 3]\n"
     ]
    }
   ],
   "source": [
    "arr=[2, 3, 1, 2, 3]\n",
    "print(duplicate(arr))"
   ]
  },
  {
   "cell_type": "code",
   "execution_count": 79,
   "id": "32d17a78-d184-4556-b8d5-2d18013c4d28",
   "metadata": {},
   "outputs": [
    {
     "data": {
      "text/plain": [
       "[0, 1, 2, 0, 1, 2]"
      ]
     },
     "execution_count": 79,
     "metadata": {},
     "output_type": "execute_result"
    }
   ],
   "source": [
    "[0, 1, 2, 0, 1, 2]"
   ]
  },
  {
   "cell_type": "code",
   "execution_count": 81,
   "id": "dbcc2d3c-a33a-495a-ad35-c80a2fd1b2b4",
   "metadata": {},
   "outputs": [],
   "source": [
    "# Given an array arr[] containing only 0s, 1s, and 2s. Sort the array in ascending order.\n",
    "#You need to solve this problem without utilizing the built-in sort function."
   ]
  },
  {
   "cell_type": "code",
   "execution_count": 98,
   "id": "f8b36e7d-0c3b-4c7c-822a-64b196bdcb03",
   "metadata": {},
   "outputs": [],
   "source": [
    "# def sort(arr):\n",
    "#     c=[]\n",
    "#     for i in range(len(arr)):\n",
    "#         for j in (i+1,len(arr)):\n",
    "#             if arr[i]<arr[j]:\n",
    "#                 c.append(arr[i])\n",
    "#                 break\n",
    "#     return c"
   ]
  },
  {
   "cell_type": "code",
   "execution_count": 99,
   "id": "bf5b8187-2b7c-459f-b8cc-e2742d1ce54e",
   "metadata": {},
   "outputs": [],
   "source": [
    "# arr=[0, 1, 2, 0, 1, 2]\n",
    "# print(sort(arr))"
   ]
  },
  {
   "cell_type": "code",
   "execution_count": 86,
   "id": "60c27f09-c5d5-4db9-90ff-caa7604de0cf",
   "metadata": {},
   "outputs": [],
   "source": [
    "def find_smaller_than_right(arr):\n",
    "    c = []\n",
    "    n = len(arr)\n",
    "    for i in range(n):\n",
    "        for j in range(i+1, n):\n",
    "            if arr[i] < arr[j]:\n",
    "                c.append(arr[i])\n",
    "                break  # no need to check further once we find a greater element\n",
    "    return c\n"
   ]
  },
  {
   "cell_type": "code",
   "execution_count": 87,
   "id": "7b4ea289-1102-4280-9641-ad888b51437c",
   "metadata": {},
   "outputs": [
    {
     "name": "stdout",
     "output_type": "stream",
     "text": [
      "[0, 1, 0, 1]\n"
     ]
    }
   ],
   "source": [
    "print(find_smaller_than_right(arr))"
   ]
  },
  {
   "cell_type": "code",
   "execution_count": 92,
   "id": "a263010c-6c07-49f6-ba14-348f020cdeb4",
   "metadata": {},
   "outputs": [],
   "source": [
    "def find_smaller_than_right(arr):\n",
    "    n = len(arr)\n",
    "    \n",
    "    for i in range(n):\n",
    "        for j in range(i+1, n):\n",
    "            if arr[i] > arr[j]:  # Check if there's a bigger element to the right\n",
    "               arr[i],arr[j]=arr[j],arr[i]\n",
    "    return arr"
   ]
  },
  {
   "cell_type": "code",
   "execution_count": 93,
   "id": "b3970013-af58-4194-bb56-0cfd5d3e410c",
   "metadata": {},
   "outputs": [
    {
     "name": "stdout",
     "output_type": "stream",
     "text": [
      "[0, 0, 1, 1, 2, 2]\n"
     ]
    }
   ],
   "source": [
    "print(find_smaller_than_right(arr))"
   ]
  },
  {
   "cell_type": "code",
   "execution_count": 94,
   "id": "5b99c56d-e35d-4f85-8ea8-765ee1e849f1",
   "metadata": {},
   "outputs": [],
   "source": [
    "def sort_ascending(arr):\n",
    "    n=len(arr)\n",
    "    for i in range(n):\n",
    "        for j in range(i+1,n):\n",
    "            if arr[i]>arr[j]:\n",
    "                arr[i],arr[j]=arr[j],arr[i]\n",
    "    return arr"
   ]
  },
  {
   "cell_type": "code",
   "execution_count": 95,
   "id": "0bfbc54b-3182-4180-ba52-de87e543044d",
   "metadata": {},
   "outputs": [
    {
     "name": "stdout",
     "output_type": "stream",
     "text": [
      "[0, 0, 1, 1, 2, 2]\n"
     ]
    }
   ],
   "source": [
    "print(sort_ascending(arr))"
   ]
  },
  {
   "cell_type": "code",
   "execution_count": 100,
   "id": "f0c6c444-2931-4b71-8648-5893619aefbd",
   "metadata": {},
   "outputs": [],
   "source": [
    "#Given an array arr[]. Find the majority element in the array. If no majority element exists, return -1.\n",
    "#Note: A majority element in an array is an element that appears strictly more than arr.size()/2 times in the array."
   ]
  },
  {
   "cell_type": "code",
   "execution_count": 138,
   "id": "ea0d8a9e-5679-4dac-ba6b-9accea57d483",
   "metadata": {},
   "outputs": [],
   "source": [
    "def frequently(arr):\n",
    "    d={}\n",
    "    n=len(arr)\n",
    "    c=[]\n",
    "    for i in range(n):\n",
    "        if arr[i] in d:\n",
    "            d[arr[i]] += 1\n",
    "        else:\n",
    "            d[arr[i]] = 1\n",
    "    t=len(arr)//2\n",
    "    for key,value in d.items():\n",
    "        \n",
    "        if value>t:\n",
    "            c.append(key)\n",
    "            return c\n",
    "    return -1\n",
    "            "
   ]
  },
  {
   "cell_type": "code",
   "execution_count": 139,
   "id": "1e493661-5690-447e-a10c-ff0a98e69539",
   "metadata": {},
   "outputs": [
    {
     "name": "stdout",
     "output_type": "stream",
     "text": [
      "[1]\n"
     ]
    }
   ],
   "source": [
    "arr=[1, 1, 2, 1, 3, 5, 1]\n",
    "print(frequently(arr))"
   ]
  },
  {
   "cell_type": "code",
   "execution_count": 134,
   "id": "4f659c2f-c7e8-4678-abe3-ca7b39ffea85",
   "metadata": {},
   "outputs": [],
   "source": [
    "def freq(arr):\n",
    "    f={}\n",
    "    for i in range(len(arr)):\n",
    "        if arr[i] in f:\n",
    "            f[arr[i]]+=1\n",
    "        else:\n",
    "            f[arr[i]]=1\n",
    "    return f"
   ]
  },
  {
   "cell_type": "code",
   "execution_count": 135,
   "id": "d4a3ed87-6a36-4b5f-89b5-ad207a5b5d87",
   "metadata": {},
   "outputs": [
    {
     "name": "stdout",
     "output_type": "stream",
     "text": [
      "{1: 4, 2: 1, 3: 1, 5: 1}\n"
     ]
    }
   ],
   "source": [
    "c=[1,3,4,2,3,1,9]\n",
    "print(freq(arr))"
   ]
  },
  {
   "cell_type": "code",
   "execution_count": 12,
   "id": "4f11c6c1-be67-4fd1-8ffe-9c25484b5e87",
   "metadata": {},
   "outputs": [],
   "source": [
    "class employe:\n",
    "    def __init__(self,name,id):\n",
    "        self.name=name\n",
    "        self.id=id\n",
    "    def info(self):\n",
    "        print(f\" emp {self.name} and {self.id}\")\n",
    "class prog(employe):\n",
    "    def ui(self):\n",
    "        print('langauge is python')"
   ]
  },
  {
   "cell_type": "code",
   "execution_count": 16,
   "id": "c9ba3956-0402-4e3f-bb09-6979094640aa",
   "metadata": {},
   "outputs": [
    {
     "name": "stdout",
     "output_type": "stream",
     "text": [
      "langauge is python\n",
      " emp tejas and 123\n"
     ]
    }
   ],
   "source": [
    "y=prog('tejas',123)\n",
    "y.ui()\n",
    "y.info()"
   ]
  },
  {
   "cell_type": "code",
   "execution_count": 7,
   "id": "eb313725-abdb-4755-a963-fc6ac4dd301f",
   "metadata": {},
   "outputs": [
    {
     "name": "stdout",
     "output_type": "stream",
     "text": [
      "[(3, 4)]\n"
     ]
    }
   ],
   "source": [
    "def find(s):\n",
    "    p = []\n",
    "    for i in range(len(s)):\n",
    "        for j in range(i + 1, len(s)):\n",
    "            if s[i] + s[j] == 12:\n",
    "                target = i, j\n",
    "                if target not in p:\n",
    "                    p.append(target)\n",
    "    return p\n",
    "\n",
    "s = [1, 2, 3, 7, 5]\n",
    "print(find(s))\n"
   ]
  },
  {
   "cell_type": "code",
   "execution_count": 12,
   "id": "83beaeb6-e6a7-4e44-9579-3e65c684f8c4",
   "metadata": {},
   "outputs": [
    {
     "name": "stdout",
     "output_type": "stream",
     "text": [
      "[(3, 9), (4, 8), (5, 7)]\n"
     ]
    }
   ],
   "source": [
    "def count(h):\n",
    "    c=0\n",
    "    p=[]\n",
    "    for i in range(len(h)):\n",
    "        for j in range(i+1,len(h)):\n",
    "            c=h[i]+h[j]\n",
    "            if c==15:\n",
    "                target=i-1,j\n",
    "                p.append(target)\n",
    "    return p\n",
    "h=[1, 2, 3, 4, 5, 6, 7, 8, 9, 10]\n",
    "print(count(h))"
   ]
  },
  {
   "cell_type": "code",
   "execution_count": 28,
   "id": "7530defd-2a87-4ff7-a898-6bea44bd74c1",
   "metadata": {},
   "outputs": [],
   "source": [
    "#Given an array arr[] containing only non-negative integers, your task is to find a continuous subarray (a contiguous sequence of elements) whose sum equals a specified value target. You need to return the 1-based indices of the leftmost and rightmost elements of this subarray. You need to find the first subarray whose sum is equal to the target.\n",
    "#Note: If no such array is possible then, return [-1]."
   ]
  },
  {
   "cell_type": "code",
   "execution_count": 26,
   "id": "fe5a692d-08d4-4a19-a5ca-345b29afae7c",
   "metadata": {},
   "outputs": [
    {
     "name": "stdout",
     "output_type": "stream",
     "text": [
      "(0, 4)\n"
     ]
    }
   ],
   "source": [
    "def io(arr,target):\n",
    "    for i in range(len(arr)):\n",
    "        total=0\n",
    "        for j in range(i,len(arr)):\n",
    "            total+=arr[j]\n",
    "            if total==target:\n",
    "                return i,j\n",
    "            elif total>target:\n",
    "                break\n",
    "    return o\n",
    "h=[1, 2, 3, 4, 5, 6, 7, 8, 9, 10]\n",
    "target=15\n",
    "print(io(h,target))"
   ]
  },
  {
   "cell_type": "code",
   "execution_count": 27,
   "id": "93cbe993-af8a-4ca7-9280-cd901e26d47f",
   "metadata": {},
   "outputs": [
    {
     "name": "stdout",
     "output_type": "stream",
     "text": [
      "(1, 3)\n"
     ]
    }
   ],
   "source": [
    "arr = [1, 2, 3, 7, 5]\n",
    "target = 12\n",
    "print(io(arr, target))"
   ]
  },
  {
   "cell_type": "code",
   "execution_count": null,
   "id": "091ff9a8-536e-4fff-a0fc-4c855b60a8a3",
   "metadata": {},
   "outputs": [],
   "source": [
    "enumerate"
   ]
  },
  {
   "cell_type": "code",
   "execution_count": 63,
   "id": "acf33c08-0543-4132-9692-7db6b9b2d43c",
   "metadata": {},
   "outputs": [],
   "source": [
    "#You are given an array arr[] of size n - 1 that contains distinct integers in the range from 1 to n (inclusive). This array represents a permutation of the integers from 1 to n with one element missing. Your task is to identify and return the missing element."
   ]
  },
  {
   "cell_type": "code",
   "execution_count": 68,
   "id": "b5c966ab-712e-4264-a7a9-ea13ea7d8f53",
   "metadata": {},
   "outputs": [
    {
     "name": "stdout",
     "output_type": "stream",
     "text": [
      "4\n"
     ]
    }
   ],
   "source": [
    "arr = [1, 2, 3, 5]\n",
    "for i in range(1, max(arr)):\n",
    "    if i not in arr:\n",
    "        print(i)\n",
    "        break\n"
   ]
  },
  {
   "cell_type": "code",
   "execution_count": 61,
   "id": "f33048a4-8180-489c-982d-d53e6d6b93c7",
   "metadata": {},
   "outputs": [],
   "source": [
    "def missingNum(arr):\n",
    "    d=[]\n",
    "    for i in range(len(arr)):\n",
    "        if arr[i]==i+1:\n",
    "            continue\n",
    "        else:\n",
    "            d.append(i+1)\n",
    "    return d\n"
   ]
  },
  {
   "cell_type": "code",
   "execution_count": 62,
   "id": "00f9bdf5-0dfa-4f29-ba6c-a8584b87e5eb",
   "metadata": {},
   "outputs": [
    {
     "name": "stdout",
     "output_type": "stream",
     "text": [
      "[4]\n"
     ]
    }
   ],
   "source": [
    "arr = [1, 2, 3, 5]\n",
    "print(missingNum(arr))"
   ]
  },
  {
   "cell_type": "code",
   "execution_count": 69,
   "id": "8b7eef0b-27cb-4d3e-892d-151db2d338af",
   "metadata": {},
   "outputs": [],
   "source": [
    "#Given an array of positive integers arr[], return the second largest element from the array. If the second largest element doesn't exist then return -1.\n",
    "\n",
    "#Note: The second largest element should not be equal to the largest element."
   ]
  },
  {
   "cell_type": "code",
   "execution_count": 83,
   "id": "59b50dae-5585-48d9-b500-4e5dc039cff8",
   "metadata": {},
   "outputs": [],
   "source": [
    "def findlargest(arr):\n",
    "    first=second=float('-inf')\n",
    "    for i in arr:\n",
    "        if i > first:\n",
    "            second = first\n",
    "            first = i\n",
    "        elif i>second and i!=first:\n",
    "            second=i\n",
    "            \n",
    "    return second if second != float('-inf') else -1"
   ]
  },
  {
   "cell_type": "code",
   "execution_count": 84,
   "id": "47e8d888-04cc-4835-8470-31e61f23e0cc",
   "metadata": {},
   "outputs": [
    {
     "name": "stdout",
     "output_type": "stream",
     "text": [
      "34\n"
     ]
    }
   ],
   "source": [
    "arr=[12, 35, 1, 10, 34, 1]\n",
    "print(findlargest(arr))"
   ]
  },
  {
   "cell_type": "code",
   "execution_count": 85,
   "id": "6d499eb1-6ef8-444e-9cf3-c5740f815a10",
   "metadata": {},
   "outputs": [
    {
     "name": "stdout",
     "output_type": "stream",
     "text": [
      "5\n"
     ]
    }
   ],
   "source": [
    "arr=[10, 5, 10]\n",
    "print(findlargest(arr))"
   ]
  },
  {
   "cell_type": "code",
   "execution_count": 86,
   "id": "3852e80b-792c-400c-bc6c-757a5d02f189",
   "metadata": {},
   "outputs": [
    {
     "name": "stdout",
     "output_type": "stream",
     "text": [
      "-1\n"
     ]
    }
   ],
   "source": [
    "arr=[10, 10, 10]\n",
    "print(findlargest(arr))"
   ]
  },
  {
   "cell_type": "code",
   "execution_count": 1,
   "id": "995450b2-a83c-413b-b269-b88ece0e8374",
   "metadata": {},
   "outputs": [
    {
     "data": {
      "text/plain": [
       "'C:\\\\Users\\\\Lenovo'"
      ]
     },
     "execution_count": 1,
     "metadata": {},
     "output_type": "execute_result"
    }
   ],
   "source": [
    "import os\n",
    "os.getcwd()\n"
   ]
  },
  {
   "cell_type": "code",
   "execution_count": 87,
   "id": "c71eff12-c4ce-497f-942c-fca26688625e",
   "metadata": {},
   "outputs": [
    {
     "name": "stdout",
     "output_type": "stream",
     "text": [
      "29493\n"
     ]
    }
   ],
   "source": [
    "arr=[28004,23544,32504,29493,17013,17850,18952,12089,5126,10353]\n",
    "print(findlargest(arr))"
   ]
  },
  {
   "cell_type": "code",
   "execution_count": 2,
   "id": "61903e4f-7943-4f33-9ec9-8e110a608f51",
   "metadata": {},
   "outputs": [
    {
     "data": {
      "text/plain": [
       "'C:\\\\Users\\\\Lenovo'"
      ]
     },
     "execution_count": 2,
     "metadata": {},
     "output_type": "execute_result"
    }
   ],
   "source": [
    "import os\n",
    "os.getcwd()\n"
   ]
  },
  {
   "cell_type": "code",
   "execution_count": null,
   "id": "96d7a4a3-bdf0-449a-b575-87d1bcf17339",
   "metadata": {},
   "outputs": [],
   "source": []
  }
 ],
 "metadata": {
  "kernelspec": {
   "display_name": "Python 3 (ipykernel)",
   "language": "python",
   "name": "python3"
  },
  "language_info": {
   "codemirror_mode": {
    "name": "ipython",
    "version": 3
   },
   "file_extension": ".py",
   "mimetype": "text/x-python",
   "name": "python",
   "nbconvert_exporter": "python",
   "pygments_lexer": "ipython3",
   "version": "3.11.7"
  }
 },
 "nbformat": 4,
 "nbformat_minor": 5
}
