Python
I am starting learning python today

print("Hello World")
Hello World
Datatypes, variables , operators
DataTypes : type of value of a variable, 
    is a classification that specifies which type of value a variable has.
1.Numeric : int , float (decimal number)
2.str : series/sequence of characters(a-z/A-Z)
3.bool : True/False
4.None
Variables : names that we give to computer memory locations which
    are used to store some values in a computer program.
a = 2
type(a)
int
a
2
to create a var age with value 33.5 and check its type?
age = 33.5
type(age)
float
'',"","""multi line string"""
first_string = 'This is my first string'
type(first_string)
str
first_string
'This is my first string'
print(first_string)
This is my first string
second_string = "Intellipaat's students"
third_string = """This is a sample 
multiline string example"""
print(third_string)
This is a sample 
multiline string example
me = """My name is rajeshwari
I live in Delhi
I work as a data scientist"""
type(me)
str
print(me)
My name is rajeshwari
I live in Delhi
I work as a data scientist
me
'My name is rajeshwari\nI live in Delhi\nI work as a data scientist'
a = True
type(a)
bool
#keywords are reserved words in python that cannot be used as var name,class name or func name.
import keyword
print(keyword.kwlist)
['False', 'None', 'True', 'and', 'as', 'assert', 'async', 'await', 'break', 'class', 'continue', 'def', 'del', 'elif', 'else', 'except', 'finally', 'for', 'from', 'global', 'if', 'import', 'in', 'is', 'lambda', 'nonlocal', 'not', 'or', 'pass', 'raise', 'return', 'try', 'while', 'with', 'yield']
keyword_list = keyword.kwlist
len(keyword_list)
35
var = None
var
type(var)
NoneType
id(var)
4423604984
Rules to define a variable names:
    1. A var name must start with a letter or underscore character.
    2. It cannot start with a number.
    3. only contain (a-z,A-Z,0-9,_)
    4. no special char like $,& is allowed
    4. No whitespace is alowed
myname = "sakshi" --#correct
#2myname = "sakshi" #wrong
my-name = "sakshi" # wrong
myname2 = "sakshi" #right
my name = "sakshi" #wrong
  File "<ipython-input-34-9c197d6facbe>", line 1
    2myname = "sakshi"
     ^
SyntaxError: invalid syntax
import os
print(os.getcwd())
/Users/gordysingh/23 april Python 
Operators : 1. Arithmatic operatic +,-,*,/,//,**,%
    2. comparison : <,>,<=,>=,!=,==
    3. logical : and , or , not
    4. membership operators : in,not in 
2+5
7
a= 2
b = 5
a+b
7
c = a+b
c
7
a-b
-3
a*b
10
a/b
0.4
5/2
2.5
5//2 #floor division it returns the value before decimal
2
2//5
0
#modulus operator returns remainder
5%2
1
5**2 #exponent , it means 5 to the power 2.
25
5%2.5
0.0
#BODMAS -- maths
#PEDMAS -- python , p is for parenthesis
2>3
False
4<3
False
2>=1
True
5<=6
True
5!=6 #5 not equals to 6
True
5==5 #5 equals to 5
True
= , assignment operator 
== , comparison operator 
 (2+3)*4/5+45 #PEDMAS
49.0
logical -- and, or , not
5>2 and 2<1
False
5>2 or 2<1
True
not True
False
bonus = ?
sal > 25000 and year_of_exp >5
bonus = 5% of salary
supoose if salary is 50000 can u calculate bonus and print it?
salary = 50000
bonus = salary * 0.05
print("Bonus Anmmount is " , bonus)
Bonus Anmmount is  2500.0
sal = input("Please enter your salary..")
Please enter your salary..45000
type(sal)
str
#sal = int(input("Please enter your salary.."))
sal = float(input("Please enter your salary.."))
Please enter your salary..56000
sal * 0.05
